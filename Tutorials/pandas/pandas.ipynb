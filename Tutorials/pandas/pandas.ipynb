{
 "cells": [
  {
   "cell_type": "markdown",
   "id": "db08f79f-0749-45a7-82a1-97c8e879ff14",
   "metadata": {},
   "source": [
    "# Pandas\n",
    "\n",
    "----"
   ]
  },
  {
   "cell_type": "markdown",
   "id": "7bb31866-d813-49e3-a52b-297492c4d8a9",
   "metadata": {},
   "source": [
    "## Data Structures\n",
    "\n",
    "- Series\n",
    "- DataFrame"
   ]
  },
  {
   "cell_type": "markdown",
   "id": "b48a7e8f-036f-4880-b58c-1aeb8710e18d",
   "metadata": {},
   "source": [
    "----"
   ]
  },
  {
   "cell_type": "code",
   "execution_count": 1,
   "id": "1cdd537b-bcf0-4b60-a8ff-05f7fab5d21d",
   "metadata": {},
   "outputs": [],
   "source": [
    "import pandas as pd\n",
    "\n",
    "import numpy as np"
   ]
  },
  {
   "cell_type": "markdown",
   "id": "96008046-6a2b-4afd-af23-431c730cb14f",
   "metadata": {},
   "source": [
    "## A) Series"
   ]
  },
  {
   "cell_type": "markdown",
   "id": "e2855062-b406-4a87-80f7-0f619883db6a",
   "metadata": {},
   "source": [
    "Series: A fixed length one dimensional array with a labeled index. \n",
    "- The pandas array can hold data/values of different types.  "
   ]
  },
  {
   "attachments": {},
   "cell_type": "markdown",
   "id": "4c9d7de6-d6a0-41cf-95d5-0645730f962b",
   "metadata": {},
   "source": [
    "### 1.0 Creating a pandas series\n",
    "\n",
    "Series can be created from;\n",
    "- an ndarray\n",
    "- a dictionary\n",
    "- a scalar value"
   ]
  },
  {
   "cell_type": "markdown",
   "id": "410130db-4d6c-4743-b78e-c53fa96fb8c5",
   "metadata": {},
   "source": [
    "#### 1.1 Series from an ndarray"
   ]
  },
  {
   "cell_type": "code",
   "execution_count": 2,
   "id": "2f858a97-8277-4726-80ef-6ec2a5375c58",
   "metadata": {},
   "outputs": [
    {
     "name": "stdout",
     "output_type": "stream",
     "text": [
      "[ 0.28991615 -1.06557627  0.68563844  0.73337913  0.25309043 -1.10996651\n",
      "  2.60563495  0.1854414  -0.12994872 -0.84124894]\n",
      "\n",
      " <class 'numpy.ndarray'>\n"
     ]
    }
   ],
   "source": [
    "random_data = np.random.randn(10)\n",
    "\n",
    "print(random_data)\n",
    "\n",
    "print(f'\\n {type(random_data)}')"
   ]
  },
  {
   "cell_type": "markdown",
   "id": "1d4928a8-15b8-4366-87a9-1ff63071f05f",
   "metadata": {},
   "source": [
    "> Numerical zero based indices are provided as index labels by default if not specified"
   ]
  },
  {
   "cell_type": "code",
   "execution_count": 3,
   "id": "d1f242f5-d62e-466a-91ca-fc50a2c3a8b9",
   "metadata": {},
   "outputs": [
    {
     "name": "stdout",
     "output_type": "stream",
     "text": [
      "Random data: \n",
      "0    0.289916\n",
      "1   -1.065576\n",
      "2    0.685638\n",
      "3    0.733379\n",
      "4    0.253090\n",
      "5   -1.109967\n",
      "6    2.605635\n",
      "7    0.185441\n",
      "8   -0.129949\n",
      "9   -0.841249\n",
      "dtype: float64\n",
      "\n",
      "Type: <class 'pandas.core.series.Series'>\n"
     ]
    }
   ],
   "source": [
    "s = pd.Series(random_data)\n",
    "print(f'Random data: \\n{s}\\n\\nType: {type(s)}')"
   ]
  },
  {
   "cell_type": "code",
   "execution_count": 4,
   "id": "d6dac597-b88a-40af-a420-9cf84723d500",
   "metadata": {},
   "outputs": [
    {
     "name": "stdout",
     "output_type": "stream",
     "text": [
      "0     4\n",
      "1    10\n",
      "2    15\n",
      "3    23\n",
      "4    27\n",
      "5    30\n",
      "dtype: int64\n"
     ]
    }
   ],
   "source": [
    "ages = np.array([4,10,15,23,27,30])\n",
    "\n",
    "s = pd.Series(ages)\n",
    "\n",
    "print(s)"
   ]
  },
  {
   "cell_type": "markdown",
   "id": "e397a81b-554f-4df0-9a36-0f73e4cb27b3",
   "metadata": {},
   "source": [
    "> The specified index becomes the labels for each data/value in the series(pandas array)"
   ]
  },
  {
   "cell_type": "code",
   "execution_count": 5,
   "id": "b17c44d9-a143-4855-83f2-af4d00b6f0e3",
   "metadata": {},
   "outputs": [
    {
     "name": "stdout",
     "output_type": "stream",
     "text": [
      "a    0.289916\n",
      "b   -1.065576\n",
      "c    0.685638\n",
      "d    0.733379\n",
      "e    0.253090\n",
      "f   -1.109967\n",
      "g    2.605635\n",
      "h    0.185441\n",
      "i   -0.129949\n",
      "j   -0.841249\n",
      "dtype: float64\n"
     ]
    }
   ],
   "source": [
    "x = pd.Series(random_data, index=['a','b','c','d','e','f','g','h','i','j'])\n",
    "\n",
    "print(x)"
   ]
  },
  {
   "cell_type": "markdown",
   "id": "ec200a88-a8f4-44fd-81d8-660dabd62747",
   "metadata": {},
   "source": [
    "> Note: When creating a pandas series from an ndarray, the index if specified should have a list with labels of the same length as the ndarray."
   ]
  },
  {
   "cell_type": "code",
   "execution_count": 6,
   "id": "fda0282f-8003-4f45-a168-0601573fd7f1",
   "metadata": {},
   "outputs": [
    {
     "name": "stdout",
     "output_type": "stream",
     "text": [
      "1     0.289916\n",
      "2    -1.065576\n",
      "3     0.685638\n",
      "4     0.733379\n",
      "5     0.253090\n",
      "6    -1.109967\n",
      "7     2.605635\n",
      "8     0.185441\n",
      "9    -0.129949\n",
      "10   -0.841249\n",
      "dtype: float64\n"
     ]
    }
   ],
   "source": [
    "y = pd.Series(random_data, index=[1,2,3,4,5,6,7,8,9,10])\n",
    "\n",
    "print(y)"
   ]
  },
  {
   "cell_type": "markdown",
   "id": "6dce8e83-42d4-4f44-a13a-833236e00579",
   "metadata": {},
   "source": [
    "#### 1.2 Series from a dictionary"
   ]
  },
  {
   "cell_type": "markdown",
   "id": "d585cab7-e370-4bdc-bf39-774b1ba026c5",
   "metadata": {},
   "source": [
    "> When a dictionary is used, the keys become the index labels and the values are the series values"
   ]
  },
  {
   "cell_type": "code",
   "execution_count": 7,
   "id": "8e3ea465-ae56-45d5-be2c-3324a6a11fe6",
   "metadata": {},
   "outputs": [
    {
     "name": "stdout",
     "output_type": "stream",
     "text": [
      "math              67\n",
      "science           75\n",
      "english           80\n",
      "social studies    59\n",
      "dtype: int64\n"
     ]
    }
   ],
   "source": [
    "scores = {'math':67, 'science':75, 'english':80, 'social studies':59} # dtype is int because the values are integers\n",
    "\n",
    "print(pd.Series(scores))"
   ]
  },
  {
   "cell_type": "code",
   "execution_count": 8,
   "id": "f554ea0e-dba7-4b94-afa5-8e6680d5af9b",
   "metadata": {},
   "outputs": [
    {
     "name": "stdout",
     "output_type": "stream",
     "text": [
      "usa          100\n",
      "china        250\n",
      "india       3200\n",
      "korea        NaN\n",
      "malawi    234.56\n",
      "dtype: object\n"
     ]
    }
   ],
   "source": [
    "# If the value types are mixed, the series dtype defaults to object\n",
    "unsorted = {'usa':'100', 'china':250, 'india':'3200', 'korea':np.nan, 'malawi':234.56}\n",
    "\n",
    "print(pd.Series(unsorted))"
   ]
  },
  {
   "cell_type": "markdown",
   "id": "db56a75b-c3e6-4c5e-94d3-8c1da17bea16",
   "metadata": {},
   "source": [
    "#### 1.3 Series from a scalar "
   ]
  },
  {
   "cell_type": "code",
   "execution_count": 9,
   "id": "ada41378-9967-4f35-934a-407eb94f9fa1",
   "metadata": {},
   "outputs": [
    {
     "name": "stdout",
     "output_type": "stream",
     "text": [
      "0    3.141593\n",
      "dtype: float64\n"
     ]
    }
   ],
   "source": [
    "pi = np.pi\n",
    "\n",
    "print(pd.Series(pi))"
   ]
  },
  {
   "cell_type": "code",
   "execution_count": 10,
   "id": "6545fd5f-9222-42dc-92c7-05cde1ad66b0",
   "metadata": {},
   "outputs": [
    {
     "name": "stdout",
     "output_type": "stream",
     "text": [
      "0    person\n",
      "dtype: object\n"
     ]
    }
   ],
   "source": [
    "print(pd.Series('person'))"
   ]
  },
  {
   "cell_type": "code",
   "execution_count": 11,
   "id": "28c54341-2382-42a3-b76d-5429409e3889",
   "metadata": {},
   "outputs": [
    {
     "name": "stdout",
     "output_type": "stream",
     "text": [
      "0   2025-05-14 22:37:38.445861\n",
      "dtype: datetime64[ns]\n"
     ]
    }
   ],
   "source": [
    "import datetime\n",
    "\n",
    "s = pd.Series((datetime.datetime.now()))\n",
    "print(s)"
   ]
  },
  {
   "cell_type": "markdown",
   "id": "fe8d8407-d9b5-4493-8f65-7bad8459ad6e",
   "metadata": {},
   "source": [
    "> Inorder to distinguish between series, each can be named differently using the `name` attribute."
   ]
  },
  {
   "cell_type": "code",
   "execution_count": 12,
   "id": "d7382a8a-9694-46c0-808b-6566cc28551b",
   "metadata": {},
   "outputs": [
    {
     "name": "stdout",
     "output_type": "stream",
     "text": [
      "0   -2.295335\n",
      "1    2.052442\n",
      "2    0.055288\n",
      "3    1.301486\n",
      "4    0.380851\n",
      "5   -0.909100\n",
      "6    1.193701\n",
      "7    1.003027\n",
      "Name: floats, dtype: float64\n"
     ]
    }
   ],
   "source": [
    "z = np.random.randn(8)\n",
    "\n",
    "print(pd.Series(z, name='floats'))"
   ]
  },
  {
   "cell_type": "code",
   "execution_count": 13,
   "id": "f15fb627-66c3-4225-9133-c351eb2b26c0",
   "metadata": {},
   "outputs": [
    {
     "name": "stdout",
     "output_type": "stream",
     "text": [
      "0   -2.295335\n",
      "1    2.052442\n",
      "2    0.055288\n",
      "Name: sample data, dtype: float64\n"
     ]
    }
   ],
   "source": [
    "t = z[:3]\n",
    "\n",
    "print(pd.Series(t, name='sample data'))"
   ]
  },
  {
   "cell_type": "code",
   "execution_count": 14,
   "id": "a1d5166a-aa03-4974-9e48-979a0a1103b4",
   "metadata": {},
   "outputs": [
    {
     "name": "stdout",
     "output_type": "stream",
     "text": [
      "0   -2.295335\n",
      "1    2.052442\n",
      "2    0.055288\n",
      "Name: selected data, dtype: float64\n"
     ]
    }
   ],
   "source": [
    "# Sample data renamed, this will create two different series\n",
    "b = pd.Series(t, name='sample data')\n",
    "\n",
    "print(b.rename('selected data'))"
   ]
  },
  {
   "cell_type": "code",
   "execution_count": 15,
   "id": "bbe71ffc-e00a-4be8-b300-2a89aad1c2cb",
   "metadata": {},
   "outputs": [
    {
     "name": "stdout",
     "output_type": "stream",
     "text": [
      "False\n"
     ]
    }
   ],
   "source": [
    "# b and t are now different objects\n",
    "print(b is t)"
   ]
  },
  {
   "cell_type": "code",
   "execution_count": 16,
   "id": "4713e844-5cde-4267-b4df-a5c2b028554b",
   "metadata": {},
   "outputs": [
    {
     "name": "stdout",
     "output_type": "stream",
     "text": [
      "0    True\n",
      "1    True\n",
      "2    True\n",
      "Name: sample data, dtype: bool\n"
     ]
    }
   ],
   "source": [
    "# but the data in them is the same and reference is made to the original object\n",
    "print(b == t)"
   ]
  },
  {
   "cell_type": "code",
   "execution_count": 17,
   "id": "f496d552-c44d-416c-91e9-0c538631ff92",
   "metadata": {},
   "outputs": [
    {
     "name": "stdout",
     "output_type": "stream",
     "text": [
      "0    True\n",
      "1    True\n",
      "2    True\n",
      "Name: sample data, dtype: bool\n"
     ]
    }
   ],
   "source": [
    "# but the data in them is the same and reference is made to the original object\n",
    "print(t == b)"
   ]
  },
  {
   "cell_type": "markdown",
   "id": "fc4c3022-f7ef-4f69-832e-a2a1e2f565c6",
   "metadata": {},
   "source": [
    "### 2.0 Slicing"
   ]
  },
  {
   "cell_type": "markdown",
   "id": "4a8b20f4-6429-4e35-b433-a534926d1325",
   "metadata": {},
   "source": [
    "> Slicing a pandas series works in a similar way as slicing a list, string, etc with an exception that it also slices the index and includes it in the output."
   ]
  },
  {
   "cell_type": "code",
   "execution_count": 18,
   "id": "141de39b-172f-49d2-8082-b3ad003847a3",
   "metadata": {},
   "outputs": [],
   "source": [
    "x = pd.Series(random_data, index=['a','b','c','d','e','f','g','h','i','j'])\n",
    "y = pd.Series(random_data, index=[1,2,3,4,5,6,7,8,9,10])"
   ]
  },
  {
   "cell_type": "markdown",
   "id": "4ec7ccab-2850-4770-a01b-645206e39541",
   "metadata": {},
   "source": [
    "#### 2.1 Accessing a subset of the series"
   ]
  },
  {
   "cell_type": "code",
   "execution_count": 19,
   "id": "5e590cd3-5928-4fe8-a885-f0f9b0cc1623",
   "metadata": {},
   "outputs": [
    {
     "data": {
      "text/plain": [
       "a    0.289916\n",
       "b   -1.065576\n",
       "dtype: float64"
      ]
     },
     "execution_count": 19,
     "metadata": {},
     "output_type": "execute_result"
    }
   ],
   "source": [
    "x[:2]"
   ]
  },
  {
   "cell_type": "code",
   "execution_count": 20,
   "id": "18c22053-3acd-4b19-85d1-8a5744b0988a",
   "metadata": {},
   "outputs": [
    {
     "data": {
      "text/plain": [
       "f   -1.109967\n",
       "g    2.605635\n",
       "h    0.185441\n",
       "i   -0.129949\n",
       "j   -0.841249\n",
       "dtype: float64"
      ]
     },
     "execution_count": 20,
     "metadata": {},
     "output_type": "execute_result"
    }
   ],
   "source": [
    "x[5:]"
   ]
  },
  {
   "cell_type": "code",
   "execution_count": 21,
   "id": "b44a1d2a-3552-40a7-86a9-e17d1f798032",
   "metadata": {},
   "outputs": [
    {
     "data": {
      "text/plain": [
       "3    0.685638\n",
       "4    0.733379\n",
       "5    0.253090\n",
       "dtype: float64"
      ]
     },
     "execution_count": 21,
     "metadata": {},
     "output_type": "execute_result"
    }
   ],
   "source": [
    "y[2:5]"
   ]
  },
  {
   "cell_type": "markdown",
   "id": "f2324bac-3d3e-43e1-b4d7-bd636d7c85e9",
   "metadata": {},
   "source": [
    "#### 2.2 Accessing individual values using index labels"
   ]
  },
  {
   "cell_type": "code",
   "execution_count": 22,
   "id": "9beb7555-a167-4a20-9cfb-ae3ad40f4d65",
   "metadata": {},
   "outputs": [
    {
     "data": {
      "text/plain": [
       "np.float64(0.6856384418500504)"
      ]
     },
     "execution_count": 22,
     "metadata": {},
     "output_type": "execute_result"
    }
   ],
   "source": [
    "x['c']"
   ]
  },
  {
   "cell_type": "code",
   "execution_count": 23,
   "id": "18edbf0f-f89b-4382-bbd5-994842996fed",
   "metadata": {},
   "outputs": [
    {
     "data": {
      "text/plain": [
       "np.float64(0.7333791329607311)"
      ]
     },
     "execution_count": 23,
     "metadata": {},
     "output_type": "execute_result"
    }
   ],
   "source": [
    "y[4]"
   ]
  },
  {
   "cell_type": "markdown",
   "id": "06f2091f-2eb1-4af9-97bf-fe12273748e8",
   "metadata": {},
   "source": [
    "### 3.0 Converting a series into an array"
   ]
  },
  {
   "cell_type": "markdown",
   "id": "18081b39-4307-43dc-9917-bacb8c2c06f3",
   "metadata": {},
   "source": [
    "> Converting a series to an array yields an ndarray"
   ]
  },
  {
   "cell_type": "code",
   "execution_count": 24,
   "id": "7bd07e78-9eb3-43eb-afec-b2b2977ae5b4",
   "metadata": {},
   "outputs": [
    {
     "name": "stdout",
     "output_type": "stream",
     "text": [
      "<NumpyExtensionArray>\n",
      "[ np.float64(0.28991615262105336),  np.float64(-1.0655762679214613),\n",
      "   np.float64(0.6856384418500504),   np.float64(0.7333791329607311),\n",
      "  np.float64(0.25309042773370827),  np.float64(-1.1099665086233503),\n",
      "   np.float64(2.6056349476300737),  np.float64(0.18544140024393005),\n",
      " np.float64(-0.12994872408967786),   np.float64(-0.841248935348726)]\n",
      "Length: 10, dtype: float64\n"
     ]
    }
   ],
   "source": [
    "# Using the array method from pandas\n",
    "print(pd.array(x))"
   ]
  },
  {
   "cell_type": "code",
   "execution_count": 25,
   "id": "5dbaa4a6-43dd-4cf6-b44d-02765470b539",
   "metadata": {},
   "outputs": [
    {
     "name": "stdout",
     "output_type": "stream",
     "text": [
      "[ 0.28991615 -1.06557627  0.68563844  0.73337913  0.25309043 -1.10996651\n",
      "  2.60563495  0.1854414  -0.12994872 -0.84124894] \n",
      "\n",
      "<class 'numpy.ndarray'>\n"
     ]
    }
   ],
   "source": [
    "# Using the to_numpy method from pandas\n",
    "# First convert the data to a pandas series, then convert to a numpy array\n",
    "s = pd.Series(y).to_numpy()\n",
    "\n",
    "print(f\"{s} \\n\\n{type(s)}\")"
   ]
  },
  {
   "cell_type": "markdown",
   "id": "2acfdac0-f226-4e99-abe5-75a9d9cd9021",
   "metadata": {},
   "source": [
    "> Note: If you would like to perform some calculations/any other numerical computations, converting a pandas series to a numpy array is recommended."
   ]
  },
  {
   "cell_type": "markdown",
   "id": "83dca8b4-a3eb-4424-a366-3ddde093c47c",
   "metadata": {},
   "source": [
    "### 4.0 Vectorization and data alignment"
   ]
  },
  {
   "cell_type": "markdown",
   "id": "c1e4e9d4-acad-4730-800f-81cc457e0442",
   "metadata": {},
   "source": [
    "> Pandas series support element wise operations just like numpy arrays, therefore does not require looping through the series to perform operations.  \n",
    "- Unsupported operations between different values default to `NaN`\n",
    "- The element wise operations support also allow for proper data alignment using the index of each value.\n",
    "  - if an index is missing, the value is replaced by `Nan`\n",
    "  - if the indicies from either serie don't match, a **union** of the values is obtained with the union value as `NaN`"
   ]
  },
  {
   "cell_type": "code",
   "execution_count": 26,
   "id": "a289ab2a-71fd-42e3-8cef-d3105d2a939d",
   "metadata": {},
   "outputs": [],
   "source": [
    "x = pd.Series(random_data, index=['a','b','c','d','e','f','g','h','i','j'])\n",
    "y = pd.Series(random_data, index=[1,2,3,4,5,6,7,8,9,10])"
   ]
  },
  {
   "cell_type": "markdown",
   "id": "b38bedff-3cb3-43b0-a65d-b6bacd878a7e",
   "metadata": {},
   "source": [
    "#### 4.1 Numerical calculations"
   ]
  },
  {
   "cell_type": "code",
   "execution_count": 27,
   "id": "67362c58-4e8f-49b0-9bc4-3ce0acf96fee",
   "metadata": {},
   "outputs": [
    {
     "data": {
      "text/plain": [
       "(a    0.289916\n",
       " b   -1.065576\n",
       " c    0.685638\n",
       " d    0.733379\n",
       " e    0.253090\n",
       " f   -1.109967\n",
       " g    2.605635\n",
       " h    0.185441\n",
       " i   -0.129949\n",
       " j   -0.841249\n",
       " dtype: float64,\n",
       " a    0.285872\n",
       " b   -0.875068\n",
       " c    0.633167\n",
       " d    0.669384\n",
       " e    0.250397\n",
       " f   -0.895684\n",
       " g    0.510665\n",
       " h    0.184380\n",
       " i   -0.129583\n",
       " j   -0.745476\n",
       " dtype: float64)"
      ]
     },
     "execution_count": 27,
     "metadata": {},
     "output_type": "execute_result"
    }
   ],
   "source": [
    "x, np.sin(x)"
   ]
  },
  {
   "cell_type": "code",
   "execution_count": 28,
   "id": "92b2f2a2-7ef6-4b29-a04f-79a2d73aa1b4",
   "metadata": {},
   "outputs": [
    {
     "data": {
      "text/plain": [
       "(a    0.289916\n",
       " b   -1.065576\n",
       " c    0.685638\n",
       " d    0.733379\n",
       " e    0.253090\n",
       " f   -1.109967\n",
       " g    2.605635\n",
       " h    0.185441\n",
       " i   -0.129949\n",
       " j   -0.841249\n",
       " dtype: float64,\n",
       " a    5.289916\n",
       " b    3.934424\n",
       " c    5.685638\n",
       " d    5.733379\n",
       " e    5.253090\n",
       " f    3.890033\n",
       " g    7.605635\n",
       " h    5.185441\n",
       " i    4.870051\n",
       " j    4.158751\n",
       " dtype: float64)"
      ]
     },
     "execution_count": 28,
     "metadata": {},
     "output_type": "execute_result"
    }
   ],
   "source": [
    "x, x + 5"
   ]
  },
  {
   "cell_type": "code",
   "execution_count": 29,
   "id": "64a7ebcf-8798-4d75-aaa1-d43ac1c51ef6",
   "metadata": {},
   "outputs": [
    {
     "data": {
      "text/plain": [
       "(a    0.289916\n",
       " b   -1.065576\n",
       " c    0.685638\n",
       " d    0.733379\n",
       " e    0.253090\n",
       " f   -1.109967\n",
       " g    2.605635\n",
       " h    0.185441\n",
       " i   -0.129949\n",
       " j   -0.841249\n",
       " dtype: float64,\n",
       " a     1.336315\n",
       " b     0.344529\n",
       " c     1.985039\n",
       " d     2.082104\n",
       " e     1.288000\n",
       " f     0.329570\n",
       " g    13.539820\n",
       " h     1.203750\n",
       " i     0.878140\n",
       " j     0.431172\n",
       " dtype: float64)"
      ]
     },
     "execution_count": 29,
     "metadata": {},
     "output_type": "execute_result"
    }
   ],
   "source": [
    "x, np.exp(x)"
   ]
  },
  {
   "cell_type": "code",
   "execution_count": 30,
   "id": "4d809c78-c291-41fd-b9d1-e539972c78e8",
   "metadata": {},
   "outputs": [
    {
     "data": {
      "text/plain": [
       "(a    0.289916\n",
       " b   -1.065576\n",
       " c    0.685638\n",
       " d    0.733379\n",
       " e    0.253090\n",
       " f   -1.109967\n",
       " g    2.605635\n",
       " h    0.185441\n",
       " i   -0.129949\n",
       " j   -0.841249\n",
       " dtype: float64,\n",
       " a     2.899162\n",
       " b   -10.655763\n",
       " c     6.856384\n",
       " d     7.333791\n",
       " e     2.530904\n",
       " f   -11.099665\n",
       " g    26.056349\n",
       " h     1.854414\n",
       " i    -1.299487\n",
       " j    -8.412489\n",
       " dtype: float64)"
      ]
     },
     "execution_count": 30,
     "metadata": {},
     "output_type": "execute_result"
    }
   ],
   "source": [
    "x, x * 10"
   ]
  },
  {
   "cell_type": "code",
   "execution_count": 31,
   "id": "27c8c929-e1e6-416e-a435-35267f7db2f9",
   "metadata": {},
   "outputs": [
    {
     "data": {
      "text/plain": [
       "(a    0.289916\n",
       " b   -1.065576\n",
       " c    0.685638\n",
       " d    0.733379\n",
       " e    0.253090\n",
       " f   -1.109967\n",
       " g    2.605635\n",
       " h    0.185441\n",
       " i   -0.129949\n",
       " j   -0.841249\n",
       " dtype: float64,\n",
       " a    False\n",
       " b    False\n",
       " c     True\n",
       " d     True\n",
       " e    False\n",
       " f    False\n",
       " g     True\n",
       " h    False\n",
       " i    False\n",
       " j    False\n",
       " dtype: bool)"
      ]
     },
     "execution_count": 31,
     "metadata": {},
     "output_type": "execute_result"
    }
   ],
   "source": [
    "x, x > 0.5"
   ]
  },
  {
   "cell_type": "markdown",
   "id": "f33810e7-bdb3-4db5-8596-36abaa8193b3",
   "metadata": {},
   "source": [
    "#### 4.2 Data Alignment"
   ]
  },
  {
   "cell_type": "markdown",
   "id": "ffaa7f9d-b6bf-4302-9ebf-89c62c671a44",
   "metadata": {},
   "source": [
    "> If the indices in each serie is the same and the operation between the elements is supported, the computation is successful, otherwise the value is replaced with `NaN`"
   ]
  },
  {
   "cell_type": "code",
   "execution_count": 32,
   "id": "2a6d5b21-a3f9-45a1-af50-9e23061a92de",
   "metadata": {},
   "outputs": [
    {
     "data": {
      "text/plain": [
       "a    0.579832\n",
       "b   -2.131153\n",
       "c    1.371277\n",
       "d    1.466758\n",
       "e    0.506181\n",
       "f   -2.219933\n",
       "g    5.211270\n",
       "h    0.370883\n",
       "i   -0.259897\n",
       "j   -1.682498\n",
       "dtype: float64"
      ]
     },
     "execution_count": 32,
     "metadata": {},
     "output_type": "execute_result"
    }
   ],
   "source": [
    "# Both x and x have the same indicies and the values support the addition operation\n",
    "x + x"
   ]
  },
  {
   "cell_type": "code",
   "execution_count": 33,
   "id": "da314e2a-0deb-43d9-ab00-d59dc7c9f904",
   "metadata": {},
   "outputs": [
    {
     "data": {
      "text/plain": [
       "a    0.579832\n",
       "b   -2.131153\n",
       "c    1.371277\n",
       "d    1.466758\n",
       "e         NaN\n",
       "f         NaN\n",
       "g         NaN\n",
       "h         NaN\n",
       "i         NaN\n",
       "j         NaN\n",
       "dtype: float64"
      ]
     },
     "execution_count": 33,
     "metadata": {},
     "output_type": "execute_result"
    }
   ],
   "source": [
    "# Only the first four elements will be successful because the indicies match and the elements present support addition\n",
    "union = x + x[:4]\n",
    "union"
   ]
  },
  {
   "cell_type": "code",
   "execution_count": 34,
   "id": "1e60b25e-a4a9-4ca6-b19f-707401f47582",
   "metadata": {},
   "outputs": [
    {
     "data": {
      "text/plain": [
       "f   NaN\n",
       "g   NaN\n",
       "h   NaN\n",
       "i   NaN\n",
       "j   NaN\n",
       "dtype: float64"
      ]
     },
     "execution_count": 34,
     "metadata": {},
     "output_type": "execute_result"
    }
   ],
   "source": [
    "# The rest of the values in the union formed i.e from index 5 to the end are replaced with NaN\n",
    "union[5:]"
   ]
  },
  {
   "cell_type": "code",
   "execution_count": 35,
   "id": "5c272c88-9647-41be-aa78-f675c9a7452c",
   "metadata": {},
   "outputs": [
    {
     "data": {
      "text/plain": [
       "a    0.579832\n",
       "b   -2.131153\n",
       "c    1.371277\n",
       "d    1.466758\n",
       "dtype: float64"
      ]
     },
     "execution_count": 35,
     "metadata": {},
     "output_type": "execute_result"
    }
   ],
   "source": [
    "# The NaN values can be dropped using pd.Series(some_data).dropna\n",
    "pd.Series(union).dropna()"
   ]
  },
  {
   "cell_type": "code",
   "execution_count": 36,
   "id": "a24e47a1-f63f-489b-bb39-5f4e7f399bd7",
   "metadata": {},
   "outputs": [
    {
     "data": {
      "text/plain": [
       "np.float64(nan)"
      ]
     },
     "execution_count": 36,
     "metadata": {},
     "output_type": "execute_result"
    }
   ],
   "source": [
    "# Each Nan value is of np.dtype(nan)\n",
    "union['j']"
   ]
  },
  {
   "cell_type": "code",
   "execution_count": 37,
   "id": "7649a8ab-ec64-46cb-833b-e98d9024e581",
   "metadata": {},
   "outputs": [
    {
     "name": "stdout",
     "output_type": "stream",
     "text": [
      "a    NaN\n",
      "b    NaN\n",
      "c    NaN\n",
      "d    NaN\n",
      "e    NaN\n",
      "f    NaN\n",
      "g    NaN\n",
      "h    NaN\n",
      "i    NaN\n",
      "j    NaN\n",
      "1    NaN\n",
      "2    NaN\n",
      "3    NaN\n",
      "4    NaN\n",
      "5    NaN\n",
      "6    NaN\n",
      "7    NaN\n",
      "8    NaN\n",
      "9    NaN\n",
      "10   NaN\n",
      "dtype: float64\n"
     ]
    }
   ],
   "source": [
    "# All the indicies don't match so a union of both series is obtained with their values replaced with NaN\n",
    "c = x + y\n",
    "print(c)"
   ]
  },
  {
   "cell_type": "code",
   "execution_count": 38,
   "id": "4552f051-337e-4969-802d-37f01f9ea46c",
   "metadata": {},
   "outputs": [
    {
     "data": {
      "text/plain": [
       "(np.float64(nan), np.float64(nan))"
      ]
     },
     "execution_count": 38,
     "metadata": {},
     "output_type": "execute_result"
    }
   ],
   "source": [
    "c['a'], c[4]"
   ]
  },
  {
   "cell_type": "code",
   "execution_count": 39,
   "id": "eab060f4-903b-4931-aefb-f8e6c05198bd",
   "metadata": {},
   "outputs": [],
   "source": [
    "z = pd.Series([1,2,3,4,5,6,7], index=['a','b','c','d',5,6,7])"
   ]
  },
  {
   "cell_type": "code",
   "execution_count": 40,
   "id": "b250317e-db09-4601-bdbf-4a2633781010",
   "metadata": {},
   "outputs": [
    {
     "data": {
      "text/plain": [
       "5         NaN\n",
       "6         NaN\n",
       "7         NaN\n",
       "a    1.289916\n",
       "b    0.934424\n",
       "c    3.685638\n",
       "d    4.733379\n",
       "e         NaN\n",
       "f         NaN\n",
       "g         NaN\n",
       "h         NaN\n",
       "i         NaN\n",
       "j         NaN\n",
       "dtype: float64"
      ]
     },
     "execution_count": 40,
     "metadata": {},
     "output_type": "execute_result"
    }
   ],
   "source": [
    "x + z"
   ]
  },
  {
   "cell_type": "code",
   "execution_count": 41,
   "id": "9d3aad2a-b7c9-421d-91f1-5ff923f1bd2b",
   "metadata": {},
   "outputs": [
    {
     "data": {
      "text/plain": [
       "1          NaN\n",
       "2          NaN\n",
       "3          NaN\n",
       "4          NaN\n",
       "5     5.253090\n",
       "6     4.890033\n",
       "7     9.605635\n",
       "8          NaN\n",
       "9          NaN\n",
       "10         NaN\n",
       "a          NaN\n",
       "b          NaN\n",
       "c          NaN\n",
       "d          NaN\n",
       "dtype: float64"
      ]
     },
     "execution_count": 41,
     "metadata": {},
     "output_type": "execute_result"
    }
   ],
   "source": [
    "y + z"
   ]
  },
  {
   "cell_type": "markdown",
   "id": "d04b29d9-26fd-4d5d-88d3-3ed929fb1e20",
   "metadata": {},
   "source": [
    "------"
   ]
  },
  {
   "cell_type": "markdown",
   "id": "fca05b71-2b01-4b2a-bb40-cb2be5311051",
   "metadata": {},
   "source": [
    "## B) DataFrame"
   ]
  },
  {
   "cell_type": "markdown",
   "id": "0644121d-938f-4175-acea-df29ecb74512",
   "metadata": {},
   "source": [
    "DataFrame: A fixed length 2D (two-dimensional) data structure. \n",
    "- Unlike Series, DataFrames have both index and column values with values within the column being the same or of varying types."
   ]
  },
  {
   "cell_type": "markdown",
   "id": "827ea8d4-b919-4a9e-9908-4c0292fab96d",
   "metadata": {},
   "source": [
    "### 1.0 Creating a DataFrame"
   ]
  },
  {
   "cell_type": "markdown",
   "id": "d685fabf-2e99-484e-a002-ab52d19cc3c4",
   "metadata": {},
   "source": [
    "A DataFrame can be created from:\n",
    "- A Series\n",
    "- A dictionary\n",
    "- A 2D numpy ndarray\n",
    "- A Structured or record ndarray\n",
    "- A DataFrame"
   ]
  },
  {
   "cell_type": "markdown",
   "id": "1534d650-4805-43a8-9daa-0d6a5bd8c43a",
   "metadata": {},
   "source": [
    "#### 1.1 DataFrame from Series"
   ]
  },
  {
   "cell_type": "code",
   "execution_count": 42,
   "id": "b43ba8fc-e3e2-4e0f-9365-f1cefc20d1da",
   "metadata": {},
   "outputs": [
    {
     "data": {
      "text/html": [
       "<div>\n",
       "<style scoped>\n",
       "    .dataframe tbody tr th:only-of-type {\n",
       "        vertical-align: middle;\n",
       "    }\n",
       "\n",
       "    .dataframe tbody tr th {\n",
       "        vertical-align: top;\n",
       "    }\n",
       "\n",
       "    .dataframe thead th {\n",
       "        text-align: right;\n",
       "    }\n",
       "</style>\n",
       "<table border=\"1\" class=\"dataframe\">\n",
       "  <thead>\n",
       "    <tr style=\"text-align: right;\">\n",
       "      <th></th>\n",
       "      <th>COLOR</th>\n",
       "    </tr>\n",
       "  </thead>\n",
       "  <tbody>\n",
       "    <tr>\n",
       "      <th>r</th>\n",
       "      <td>RED</td>\n",
       "    </tr>\n",
       "    <tr>\n",
       "      <th>g</th>\n",
       "      <td>GREEN</td>\n",
       "    </tr>\n",
       "    <tr>\n",
       "      <th>b</th>\n",
       "      <td>BLUE</td>\n",
       "    </tr>\n",
       "  </tbody>\n",
       "</table>\n",
       "</div>"
      ],
      "text/plain": [
       "   COLOR\n",
       "r    RED\n",
       "g  GREEN\n",
       "b   BLUE"
      ]
     },
     "execution_count": 42,
     "metadata": {},
     "output_type": "execute_result"
    }
   ],
   "source": [
    "s1 = pd.Series({'r': 'RED', 'g': 'GREEN', 'b': 'BLUE'})\n",
    "\n",
    "pd.DataFrame(s1, columns=['COLOR'])"
   ]
  },
  {
   "cell_type": "code",
   "execution_count": 43,
   "id": "6023bbee-5824-4171-b869-0e9b04345f79",
   "metadata": {},
   "outputs": [
    {
     "data": {
      "text/html": [
       "<div>\n",
       "<style scoped>\n",
       "    .dataframe tbody tr th:only-of-type {\n",
       "        vertical-align: middle;\n",
       "    }\n",
       "\n",
       "    .dataframe tbody tr th {\n",
       "        vertical-align: top;\n",
       "    }\n",
       "\n",
       "    .dataframe thead th {\n",
       "        text-align: right;\n",
       "    }\n",
       "</style>\n",
       "<table border=\"1\" class=\"dataframe\">\n",
       "  <thead>\n",
       "    <tr style=\"text-align: right;\">\n",
       "      <th></th>\n",
       "      <th>Operation</th>\n",
       "    </tr>\n",
       "  </thead>\n",
       "  <tbody>\n",
       "    <tr>\n",
       "      <th>&amp;&amp;</th>\n",
       "      <td>AND</td>\n",
       "    </tr>\n",
       "    <tr>\n",
       "      <th>||</th>\n",
       "      <td>OR</td>\n",
       "    </tr>\n",
       "    <tr>\n",
       "      <th>!</th>\n",
       "      <td>NOT</td>\n",
       "    </tr>\n",
       "  </tbody>\n",
       "</table>\n",
       "</div>"
      ],
      "text/plain": [
       "   Operation\n",
       "&&       AND\n",
       "||        OR\n",
       "!        NOT"
      ]
     },
     "execution_count": 43,
     "metadata": {},
     "output_type": "execute_result"
    }
   ],
   "source": [
    "s2 = pd.Series( ['AND', 'OR', 'NOT'],index=['&&', '||', '!'])\n",
    "\n",
    "pd.DataFrame(s2, columns=['Operation'])"
   ]
  },
  {
   "cell_type": "markdown",
   "id": "e09191e6-e27c-403a-bf3d-65cddabce043",
   "metadata": {},
   "source": [
    "#### 1.2 DataFrame from a dictionary"
   ]
  },
  {
   "cell_type": "markdown",
   "id": "d3e6aaf0-796c-4d2b-ad6c-498e9cfd62af",
   "metadata": {},
   "source": [
    "> To create multiple rows of data, use many 1D arrays or many Series"
   ]
  },
  {
   "cell_type": "markdown",
   "id": "416852d0-6a60-4801-9379-6bcc7f3218ad",
   "metadata": {},
   "source": [
    "##### 1.21 Using a dictionary of Series"
   ]
  },
  {
   "cell_type": "code",
   "execution_count": 44,
   "id": "aa5e99d3-64e4-4f36-bcc6-5a9c4fed01af",
   "metadata": {},
   "outputs": [
    {
     "data": {
      "text/html": [
       "<div>\n",
       "<style scoped>\n",
       "    .dataframe tbody tr th:only-of-type {\n",
       "        vertical-align: middle;\n",
       "    }\n",
       "\n",
       "    .dataframe tbody tr th {\n",
       "        vertical-align: top;\n",
       "    }\n",
       "\n",
       "    .dataframe thead th {\n",
       "        text-align: right;\n",
       "    }\n",
       "</style>\n",
       "<table border=\"1\" class=\"dataframe\">\n",
       "  <thead>\n",
       "    <tr style=\"text-align: right;\">\n",
       "      <th></th>\n",
       "      <th>First Series</th>\n",
       "      <th>Second Series</th>\n",
       "    </tr>\n",
       "  </thead>\n",
       "  <tbody>\n",
       "    <tr>\n",
       "      <th>!</th>\n",
       "      <td>NaN</td>\n",
       "      <td>NOT</td>\n",
       "    </tr>\n",
       "    <tr>\n",
       "      <th>&amp;&amp;</th>\n",
       "      <td>NaN</td>\n",
       "      <td>AND</td>\n",
       "    </tr>\n",
       "    <tr>\n",
       "      <th>b</th>\n",
       "      <td>BLUE</td>\n",
       "      <td>NaN</td>\n",
       "    </tr>\n",
       "    <tr>\n",
       "      <th>g</th>\n",
       "      <td>GREEN</td>\n",
       "      <td>NaN</td>\n",
       "    </tr>\n",
       "    <tr>\n",
       "      <th>r</th>\n",
       "      <td>RED</td>\n",
       "      <td>NaN</td>\n",
       "    </tr>\n",
       "    <tr>\n",
       "      <th>||</th>\n",
       "      <td>NaN</td>\n",
       "      <td>OR</td>\n",
       "    </tr>\n",
       "  </tbody>\n",
       "</table>\n",
       "</div>"
      ],
      "text/plain": [
       "   First Series Second Series\n",
       "!           NaN           NOT\n",
       "&&          NaN           AND\n",
       "b          BLUE           NaN\n",
       "g         GREEN           NaN\n",
       "r           RED           NaN\n",
       "||          NaN            OR"
      ]
     },
     "execution_count": 44,
     "metadata": {},
     "output_type": "execute_result"
    }
   ],
   "source": [
    "dict_series = {'First Series': s1, 'Second Series': s2}\n",
    "\n",
    "pd.DataFrame(dict_series) # Values for indicies that don't match are replaced with NaN"
   ]
  },
  {
   "cell_type": "code",
   "execution_count": 45,
   "id": "cc8f8282-0c7e-4932-9ef1-d8b4df7160b2",
   "metadata": {},
   "outputs": [
    {
     "name": "stdout",
     "output_type": "stream",
     "text": [
      "Index: Index(['!', '&&', 'b', 'g', 'r', '||'], dtype='object')\n",
      "Columns: Index(['First Series', 'Second Series'], dtype='object')\n"
     ]
    }
   ],
   "source": [
    "dict_series = {'First Series': s1, 'Second Series': s2}\n",
    "df = pd.DataFrame(dict_series)\n",
    "\n",
    "print(f'Index: {df.index}\\nColumns: {df.columns}')"
   ]
  },
  {
   "cell_type": "markdown",
   "id": "68ab0f05-a5e8-4199-8b0b-435e74627c07",
   "metadata": {},
   "source": [
    "> To override the order of columns or indicies, specify then using the `columns`, and `index` attributes respectively"
   ]
  },
  {
   "cell_type": "code",
   "execution_count": 46,
   "id": "6790b50e-9a52-4b63-9ee7-fd10115471da",
   "metadata": {},
   "outputs": [
    {
     "data": {
      "text/html": [
       "<div>\n",
       "<style scoped>\n",
       "    .dataframe tbody tr th:only-of-type {\n",
       "        vertical-align: middle;\n",
       "    }\n",
       "\n",
       "    .dataframe tbody tr th {\n",
       "        vertical-align: top;\n",
       "    }\n",
       "\n",
       "    .dataframe thead th {\n",
       "        text-align: right;\n",
       "    }\n",
       "</style>\n",
       "<table border=\"1\" class=\"dataframe\">\n",
       "  <thead>\n",
       "    <tr style=\"text-align: right;\">\n",
       "      <th></th>\n",
       "      <th>Second Series</th>\n",
       "      <th>First Series</th>\n",
       "    </tr>\n",
       "  </thead>\n",
       "  <tbody>\n",
       "    <tr>\n",
       "      <th>r</th>\n",
       "      <td>NaN</td>\n",
       "      <td>RED</td>\n",
       "    </tr>\n",
       "    <tr>\n",
       "      <th>g</th>\n",
       "      <td>NaN</td>\n",
       "      <td>GREEN</td>\n",
       "    </tr>\n",
       "    <tr>\n",
       "      <th>b</th>\n",
       "      <td>NaN</td>\n",
       "      <td>BLUE</td>\n",
       "    </tr>\n",
       "    <tr>\n",
       "      <th>&amp;&amp;</th>\n",
       "      <td>AND</td>\n",
       "      <td>NaN</td>\n",
       "    </tr>\n",
       "    <tr>\n",
       "      <th>||</th>\n",
       "      <td>OR</td>\n",
       "      <td>NaN</td>\n",
       "    </tr>\n",
       "    <tr>\n",
       "      <th>!</th>\n",
       "      <td>NOT</td>\n",
       "      <td>NaN</td>\n",
       "    </tr>\n",
       "  </tbody>\n",
       "</table>\n",
       "</div>"
      ],
      "text/plain": [
       "   Second Series First Series\n",
       "r            NaN          RED\n",
       "g            NaN        GREEN\n",
       "b            NaN         BLUE\n",
       "&&           AND          NaN\n",
       "||            OR          NaN\n",
       "!            NOT          NaN"
      ]
     },
     "execution_count": 46,
     "metadata": {},
     "output_type": "execute_result"
    }
   ],
   "source": [
    "pd.DataFrame(dict_series, index=['r', 'g', 'b', '&&', '||', '!'], columns=['Second Series', 'First Series'])"
   ]
  },
  {
   "cell_type": "markdown",
   "id": "517780fb-3de2-4c1d-a6b3-18784026fe43",
   "metadata": {},
   "source": [
    "##### 1.22 Using a dictionary of dictionaries"
   ]
  },
  {
   "cell_type": "code",
   "execution_count": 47,
   "id": "7f22bdef-01f3-4979-9148-6595c27c6066",
   "metadata": {},
   "outputs": [
    {
     "data": {
      "text/html": [
       "<div>\n",
       "<style scoped>\n",
       "    .dataframe tbody tr th:only-of-type {\n",
       "        vertical-align: middle;\n",
       "    }\n",
       "\n",
       "    .dataframe tbody tr th {\n",
       "        vertical-align: top;\n",
       "    }\n",
       "\n",
       "    .dataframe thead th {\n",
       "        text-align: right;\n",
       "    }\n",
       "</style>\n",
       "<table border=\"1\" class=\"dataframe\">\n",
       "  <thead>\n",
       "    <tr style=\"text-align: right;\">\n",
       "      <th></th>\n",
       "      <th>Dict One</th>\n",
       "      <th>Dict Two</th>\n",
       "    </tr>\n",
       "  </thead>\n",
       "  <tbody>\n",
       "    <tr>\n",
       "      <th>one</th>\n",
       "      <td>1.0</td>\n",
       "      <td>NaN</td>\n",
       "    </tr>\n",
       "    <tr>\n",
       "      <th>two</th>\n",
       "      <td>2.0</td>\n",
       "      <td>NaN</td>\n",
       "    </tr>\n",
       "    <tr>\n",
       "      <th>three</th>\n",
       "      <td>NaN</td>\n",
       "      <td>3.0</td>\n",
       "    </tr>\n",
       "    <tr>\n",
       "      <th>four</th>\n",
       "      <td>NaN</td>\n",
       "      <td>4.0</td>\n",
       "    </tr>\n",
       "  </tbody>\n",
       "</table>\n",
       "</div>"
      ],
      "text/plain": [
       "       Dict One  Dict Two\n",
       "one         1.0       NaN\n",
       "two         2.0       NaN\n",
       "three       NaN       3.0\n",
       "four        NaN       4.0"
      ]
     },
     "execution_count": 47,
     "metadata": {},
     "output_type": "execute_result"
    }
   ],
   "source": [
    "dict_dict = {\n",
    "    'Dict One': {'one': 1, 'two': 2},\n",
    "    'Dict Two': {'three': 3, 'four': 4}\n",
    "}\n",
    "\n",
    "pd.DataFrame(dict_dict)"
   ]
  },
  {
   "cell_type": "markdown",
   "id": "f6c229b7-cab7-411a-afbe-08881f999d32",
   "metadata": {},
   "source": [
    "##### 1.23 Using a dictionary of lists"
   ]
  },
  {
   "cell_type": "code",
   "execution_count": 48,
   "id": "0c13ecfd-b653-4e8f-9633-95251bf468b2",
   "metadata": {},
   "outputs": [
    {
     "data": {
      "text/html": [
       "<div>\n",
       "<style scoped>\n",
       "    .dataframe tbody tr th:only-of-type {\n",
       "        vertical-align: middle;\n",
       "    }\n",
       "\n",
       "    .dataframe tbody tr th {\n",
       "        vertical-align: top;\n",
       "    }\n",
       "\n",
       "    .dataframe thead th {\n",
       "        text-align: right;\n",
       "    }\n",
       "</style>\n",
       "<table border=\"1\" class=\"dataframe\">\n",
       "  <thead>\n",
       "    <tr style=\"text-align: right;\">\n",
       "      <th></th>\n",
       "      <th>list-one</th>\n",
       "      <th>list-two</th>\n",
       "      <th>list-three</th>\n",
       "    </tr>\n",
       "  </thead>\n",
       "  <tbody>\n",
       "    <tr>\n",
       "      <th>row-1</th>\n",
       "      <td>1</td>\n",
       "      <td>5</td>\n",
       "      <td>9</td>\n",
       "    </tr>\n",
       "    <tr>\n",
       "      <th>row-2</th>\n",
       "      <td>2</td>\n",
       "      <td>6</td>\n",
       "      <td>10</td>\n",
       "    </tr>\n",
       "    <tr>\n",
       "      <th>row-3</th>\n",
       "      <td>3</td>\n",
       "      <td>7</td>\n",
       "      <td>11</td>\n",
       "    </tr>\n",
       "    <tr>\n",
       "      <th>row-4</th>\n",
       "      <td>4</td>\n",
       "      <td>8</td>\n",
       "      <td>12</td>\n",
       "    </tr>\n",
       "  </tbody>\n",
       "</table>\n",
       "</div>"
      ],
      "text/plain": [
       "       list-one  list-two  list-three\n",
       "row-1         1         5           9\n",
       "row-2         2         6          10\n",
       "row-3         3         7          11\n",
       "row-4         4         8          12"
      ]
     },
     "execution_count": 48,
     "metadata": {},
     "output_type": "execute_result"
    }
   ],
   "source": [
    "dict_list = {\n",
    "    'list-one': [1, 2, 3, 4],\n",
    "    'list-two': [5, 6, 7, 8],\n",
    "    'list-three': [9, 10, 11, 12]\n",
    "}\n",
    "\n",
    "pd.DataFrame(dict_list, index=['row-1', 'row-2', 'row-3', 'row-4'])"
   ]
  },
  {
   "cell_type": "markdown",
   "id": "1583e29b-9d93-407f-aca2-10f3dd60de8d",
   "metadata": {},
   "source": [
    "##### 1.24 Using a dictionary of ndarrays"
   ]
  },
  {
   "cell_type": "code",
   "execution_count": 49,
   "id": "147aacb7-3481-4db0-9348-815ebde1ac1d",
   "metadata": {},
   "outputs": [
    {
     "data": {
      "text/html": [
       "<div>\n",
       "<style scoped>\n",
       "    .dataframe tbody tr th:only-of-type {\n",
       "        vertical-align: middle;\n",
       "    }\n",
       "\n",
       "    .dataframe tbody tr th {\n",
       "        vertical-align: top;\n",
       "    }\n",
       "\n",
       "    .dataframe thead th {\n",
       "        text-align: right;\n",
       "    }\n",
       "</style>\n",
       "<table border=\"1\" class=\"dataframe\">\n",
       "  <thead>\n",
       "    <tr style=\"text-align: right;\">\n",
       "      <th></th>\n",
       "      <th>Array 1</th>\n",
       "      <th>Array 2</th>\n",
       "      <th>Array 3</th>\n",
       "    </tr>\n",
       "  </thead>\n",
       "  <tbody>\n",
       "    <tr>\n",
       "      <th>0</th>\n",
       "      <td>1</td>\n",
       "      <td>0</td>\n",
       "      <td>-0.544321</td>\n",
       "    </tr>\n",
       "    <tr>\n",
       "      <th>1</th>\n",
       "      <td>2</td>\n",
       "      <td>1</td>\n",
       "      <td>1.486600</td>\n",
       "    </tr>\n",
       "    <tr>\n",
       "      <th>2</th>\n",
       "      <td>3</td>\n",
       "      <td>2</td>\n",
       "      <td>-0.512407</td>\n",
       "    </tr>\n",
       "    <tr>\n",
       "      <th>3</th>\n",
       "      <td>4</td>\n",
       "      <td>3</td>\n",
       "      <td>-0.168033</td>\n",
       "    </tr>\n",
       "  </tbody>\n",
       "</table>\n",
       "</div>"
      ],
      "text/plain": [
       "   Array 1  Array 2   Array 3\n",
       "0        1        0 -0.544321\n",
       "1        2        1  1.486600\n",
       "2        3        2 -0.512407\n",
       "3        4        3 -0.168033"
      ]
     },
     "execution_count": 49,
     "metadata": {},
     "output_type": "execute_result"
    }
   ],
   "source": [
    "array_1 = np.array([1, 2, 3, 4])\n",
    "array_2 = np.arange(4)\n",
    "array_3 = np.random.randn(4)\n",
    "\n",
    "dict_ndarrays = {\n",
    "    'Array 1': array_1,\n",
    "    'Array 2': array_2,\n",
    "    'Array 3': array_3\n",
    "}\n",
    "\n",
    "pd.DataFrame(dict_ndarrays)"
   ]
  },
  {
   "cell_type": "markdown",
   "id": "148f6923-615e-4349-b5b2-64c891c486d6",
   "metadata": {},
   "source": [
    "#### 1.3 DataFrame from a 2D numpy ndarray"
   ]
  },
  {
   "cell_type": "code",
   "execution_count": 50,
   "id": "274707eb-6fd6-4e1e-91e7-253663c30669",
   "metadata": {},
   "outputs": [
    {
     "data": {
      "text/html": [
       "<div>\n",
       "<style scoped>\n",
       "    .dataframe tbody tr th:only-of-type {\n",
       "        vertical-align: middle;\n",
       "    }\n",
       "\n",
       "    .dataframe tbody tr th {\n",
       "        vertical-align: top;\n",
       "    }\n",
       "\n",
       "    .dataframe thead th {\n",
       "        text-align: right;\n",
       "    }\n",
       "</style>\n",
       "<table border=\"1\" class=\"dataframe\">\n",
       "  <thead>\n",
       "    <tr style=\"text-align: right;\">\n",
       "      <th></th>\n",
       "      <th>0</th>\n",
       "      <th>1</th>\n",
       "      <th>2</th>\n",
       "      <th>3</th>\n",
       "    </tr>\n",
       "  </thead>\n",
       "  <tbody>\n",
       "    <tr>\n",
       "      <th>0</th>\n",
       "      <td>1</td>\n",
       "      <td>2</td>\n",
       "      <td>3</td>\n",
       "      <td>4</td>\n",
       "    </tr>\n",
       "    <tr>\n",
       "      <th>1</th>\n",
       "      <td>a</td>\n",
       "      <td>b</td>\n",
       "      <td>c</td>\n",
       "      <td>d</td>\n",
       "    </tr>\n",
       "  </tbody>\n",
       "</table>\n",
       "</div>"
      ],
      "text/plain": [
       "   0  1  2  3\n",
       "0  1  2  3  4\n",
       "1  a  b  c  d"
      ]
     },
     "execution_count": 50,
     "metadata": {},
     "output_type": "execute_result"
    }
   ],
   "source": [
    "array_2D = np.array([[1, 2, 3, 4], ['a', 'b', 'c', 'd']])\n",
    "\n",
    "pd.DataFrame(array_2D)"
   ]
  },
  {
   "cell_type": "code",
   "execution_count": 51,
   "id": "40f5ccf7-cfa8-4846-bde4-1dce5a6b608f",
   "metadata": {},
   "outputs": [
    {
     "data": {
      "text/html": [
       "<div>\n",
       "<style scoped>\n",
       "    .dataframe tbody tr th:only-of-type {\n",
       "        vertical-align: middle;\n",
       "    }\n",
       "\n",
       "    .dataframe tbody tr th {\n",
       "        vertical-align: top;\n",
       "    }\n",
       "\n",
       "    .dataframe thead th {\n",
       "        text-align: right;\n",
       "    }\n",
       "</style>\n",
       "<table border=\"1\" class=\"dataframe\">\n",
       "  <thead>\n",
       "    <tr style=\"text-align: right;\">\n",
       "      <th></th>\n",
       "      <th>L</th>\n",
       "      <th>W</th>\n",
       "      <th>D</th>\n",
       "      <th>P</th>\n",
       "    </tr>\n",
       "  </thead>\n",
       "  <tbody>\n",
       "    <tr>\n",
       "      <th>TEAM 1</th>\n",
       "      <td>1</td>\n",
       "      <td>2</td>\n",
       "      <td>3</td>\n",
       "      <td>9</td>\n",
       "    </tr>\n",
       "    <tr>\n",
       "      <th>TEAM 2</th>\n",
       "      <td>3</td>\n",
       "      <td>0</td>\n",
       "      <td>1</td>\n",
       "      <td>3</td>\n",
       "    </tr>\n",
       "  </tbody>\n",
       "</table>\n",
       "</div>"
      ],
      "text/plain": [
       "        L  W  D  P\n",
       "TEAM 1  1  2  3  9\n",
       "TEAM 2  3  0  1  3"
      ]
     },
     "execution_count": 51,
     "metadata": {},
     "output_type": "execute_result"
    }
   ],
   "source": [
    "table = np.array(\n",
    "    [[1, 2, 3, 9], \n",
    "     [3, 0, 1, 3]]\n",
    ")\n",
    "\n",
    "pd.DataFrame(table, columns=['L', 'W', 'D', 'P'], index=['TEAM 1', 'TEAM 2'])"
   ]
  },
  {
   "cell_type": "markdown",
   "id": "094ecadb-8d29-4a83-ab91-cf30ebf05607",
   "metadata": {},
   "source": [
    "#### 1.4 DataFrame from a Structured or record ndarray"
   ]
  },
  {
   "cell_type": "code",
   "execution_count": 52,
   "id": "f2e37b52-412c-48f4-8245-07fbc3adf6e2",
   "metadata": {},
   "outputs": [
    {
     "data": {
      "text/html": [
       "<div>\n",
       "<style scoped>\n",
       "    .dataframe tbody tr th:only-of-type {\n",
       "        vertical-align: middle;\n",
       "    }\n",
       "\n",
       "    .dataframe tbody tr th {\n",
       "        vertical-align: top;\n",
       "    }\n",
       "\n",
       "    .dataframe thead th {\n",
       "        text-align: right;\n",
       "    }\n",
       "</style>\n",
       "<table border=\"1\" class=\"dataframe\">\n",
       "  <thead>\n",
       "    <tr style=\"text-align: right;\">\n",
       "      <th></th>\n",
       "      <th>0</th>\n",
       "      <th>1</th>\n",
       "      <th>2</th>\n",
       "      <th>3</th>\n",
       "      <th>4</th>\n",
       "    </tr>\n",
       "  </thead>\n",
       "  <tbody>\n",
       "    <tr>\n",
       "      <th>DATA-1</th>\n",
       "      <td>MATH</td>\n",
       "      <td>PHYSICS</td>\n",
       "      <td>COMPUTER SCIENCE</td>\n",
       "      <td>ENGINEERING</td>\n",
       "      <td>LITERATURE</td>\n",
       "    </tr>\n",
       "    <tr>\n",
       "      <th>DATA-2</th>\n",
       "      <td>75</td>\n",
       "      <td>80</td>\n",
       "      <td>85</td>\n",
       "      <td>90</td>\n",
       "      <td>95</td>\n",
       "    </tr>\n",
       "  </tbody>\n",
       "</table>\n",
       "</div>"
      ],
      "text/plain": [
       "           0        1                 2            3           4\n",
       "DATA-1  MATH  PHYSICS  COMPUTER SCIENCE  ENGINEERING  LITERATURE\n",
       "DATA-2    75       80                85           90          95"
      ]
     },
     "execution_count": 52,
     "metadata": {},
     "output_type": "execute_result"
    }
   ],
   "source": [
    "record = ('MATH', 'PHYSICS', 'COMPUTER SCIENCE', 'ENGINEERING', 'LITERATURE'), np.arange(75, 100, 5)\n",
    "\n",
    "pd.DataFrame(record, index=['DATA-1', 'DATA-2'])"
   ]
  },
  {
   "cell_type": "code",
   "execution_count": 53,
   "id": "fe73aed4-23ad-4329-9001-dc67db40e8c0",
   "metadata": {},
   "outputs": [
    {
     "name": "stdout",
     "output_type": "stream",
     "text": [
      "Student(name='Peter', age=27, year=4)\n",
      "\n"
     ]
    },
    {
     "data": {
      "text/html": [
       "<div>\n",
       "<style scoped>\n",
       "    .dataframe tbody tr th:only-of-type {\n",
       "        vertical-align: middle;\n",
       "    }\n",
       "\n",
       "    .dataframe tbody tr th {\n",
       "        vertical-align: top;\n",
       "    }\n",
       "\n",
       "    .dataframe thead th {\n",
       "        text-align: right;\n",
       "    }\n",
       "</style>\n",
       "<table border=\"1\" class=\"dataframe\">\n",
       "  <thead>\n",
       "    <tr style=\"text-align: right;\">\n",
       "      <th></th>\n",
       "      <th>Profile</th>\n",
       "    </tr>\n",
       "  </thead>\n",
       "  <tbody>\n",
       "    <tr>\n",
       "      <th>Name</th>\n",
       "      <td>Peter</td>\n",
       "    </tr>\n",
       "    <tr>\n",
       "      <th>Age</th>\n",
       "      <td>27</td>\n",
       "    </tr>\n",
       "    <tr>\n",
       "      <th>Year</th>\n",
       "      <td>4</td>\n",
       "    </tr>\n",
       "  </tbody>\n",
       "</table>\n",
       "</div>"
      ],
      "text/plain": [
       "     Profile\n",
       "Name   Peter\n",
       "Age       27\n",
       "Year       4"
      ]
     },
     "execution_count": 53,
     "metadata": {},
     "output_type": "execute_result"
    }
   ],
   "source": [
    "from dataclasses import dataclass\n",
    "\n",
    "@dataclass\n",
    "class Student:\n",
    "    name: str\n",
    "    age: int\n",
    "    year: int\n",
    "\n",
    "student = Student('Peter', 27, 4)\n",
    "\n",
    "print(student, end='\\n\\n')\n",
    "\n",
    "pd.DataFrame((student.name, student.age, student.year), index=['Name', 'Age', 'Year'], columns=['Profile'])"
   ]
  },
  {
   "cell_type": "markdown",
   "id": "75581c8b-b1c6-46bf-9887-7042dba51fd7",
   "metadata": {},
   "source": [
    "#### 1.5 DataFrame from a DataFrame"
   ]
  },
  {
   "cell_type": "code",
   "execution_count": 54,
   "id": "1300506a-ddd4-45b4-83f7-e83762698842",
   "metadata": {},
   "outputs": [
    {
     "data": {
      "text/html": [
       "<div>\n",
       "<style scoped>\n",
       "    .dataframe tbody tr th:only-of-type {\n",
       "        vertical-align: middle;\n",
       "    }\n",
       "\n",
       "    .dataframe tbody tr th {\n",
       "        vertical-align: top;\n",
       "    }\n",
       "\n",
       "    .dataframe thead th {\n",
       "        text-align: right;\n",
       "    }\n",
       "</style>\n",
       "<table border=\"1\" class=\"dataframe\">\n",
       "  <thead>\n",
       "    <tr style=\"text-align: right;\">\n",
       "      <th></th>\n",
       "      <th>Second Series</th>\n",
       "      <th>First Series</th>\n",
       "    </tr>\n",
       "  </thead>\n",
       "  <tbody>\n",
       "    <tr>\n",
       "      <th>r</th>\n",
       "      <td>NaN</td>\n",
       "      <td>RED</td>\n",
       "    </tr>\n",
       "    <tr>\n",
       "      <th>g</th>\n",
       "      <td>NaN</td>\n",
       "      <td>GREEN</td>\n",
       "    </tr>\n",
       "    <tr>\n",
       "      <th>b</th>\n",
       "      <td>NaN</td>\n",
       "      <td>BLUE</td>\n",
       "    </tr>\n",
       "    <tr>\n",
       "      <th>&amp;&amp;</th>\n",
       "      <td>AND</td>\n",
       "      <td>NaN</td>\n",
       "    </tr>\n",
       "    <tr>\n",
       "      <th>||</th>\n",
       "      <td>OR</td>\n",
       "      <td>NaN</td>\n",
       "    </tr>\n",
       "    <tr>\n",
       "      <th>!</th>\n",
       "      <td>NOT</td>\n",
       "      <td>NaN</td>\n",
       "    </tr>\n",
       "  </tbody>\n",
       "</table>\n",
       "</div>"
      ],
      "text/plain": [
       "   Second Series First Series\n",
       "r            NaN          RED\n",
       "g            NaN        GREEN\n",
       "b            NaN         BLUE\n",
       "&&           AND          NaN\n",
       "||            OR          NaN\n",
       "!            NOT          NaN"
      ]
     },
     "execution_count": 54,
     "metadata": {},
     "output_type": "execute_result"
    }
   ],
   "source": [
    "df1 = pd.DataFrame(dict_series, index=['r', 'g', 'b', '&&', '||', '!'], columns=['Second Series', 'First Series'])\n",
    "df2 = pd.DataFrame(df1)\n",
    "\n",
    "df2"
   ]
  },
  {
   "cell_type": "markdown",
   "id": "16759de1-d516-44cc-a952-7c7773cf6738",
   "metadata": {},
   "source": [
    "> Note: Data alignment in a DataFrame works in a similar way as in Series. The values of columns are a union of the data provided and any missing values are replaced with `NaN`."
   ]
  },
  {
   "cell_type": "markdown",
   "id": "2395a7e3-e328-4a5b-91ba-913a7c6e74a7",
   "metadata": {},
   "source": [
    "### 2.0 Operations on a DataFrame"
   ]
  },
  {
   "cell_type": "code",
   "execution_count": 55,
   "id": "cb4a300e-c7c7-47bc-97d9-f642043bee47",
   "metadata": {},
   "outputs": [
    {
     "data": {
      "text/html": [
       "<div>\n",
       "<style scoped>\n",
       "    .dataframe tbody tr th:only-of-type {\n",
       "        vertical-align: middle;\n",
       "    }\n",
       "\n",
       "    .dataframe tbody tr th {\n",
       "        vertical-align: top;\n",
       "    }\n",
       "\n",
       "    .dataframe thead th {\n",
       "        text-align: right;\n",
       "    }\n",
       "</style>\n",
       "<table border=\"1\" class=\"dataframe\">\n",
       "  <thead>\n",
       "    <tr style=\"text-align: right;\">\n",
       "      <th></th>\n",
       "      <th>list-one</th>\n",
       "      <th>list-two</th>\n",
       "      <th>list-three</th>\n",
       "    </tr>\n",
       "  </thead>\n",
       "  <tbody>\n",
       "    <tr>\n",
       "      <th>0</th>\n",
       "      <td>1</td>\n",
       "      <td>5</td>\n",
       "      <td>9</td>\n",
       "    </tr>\n",
       "    <tr>\n",
       "      <th>1</th>\n",
       "      <td>2</td>\n",
       "      <td>6</td>\n",
       "      <td>10</td>\n",
       "    </tr>\n",
       "    <tr>\n",
       "      <th>2</th>\n",
       "      <td>3</td>\n",
       "      <td>7</td>\n",
       "      <td>11</td>\n",
       "    </tr>\n",
       "    <tr>\n",
       "      <th>3</th>\n",
       "      <td>4</td>\n",
       "      <td>8</td>\n",
       "      <td>12</td>\n",
       "    </tr>\n",
       "  </tbody>\n",
       "</table>\n",
       "</div>"
      ],
      "text/plain": [
       "   list-one  list-two  list-three\n",
       "0         1         5           9\n",
       "1         2         6          10\n",
       "2         3         7          11\n",
       "3         4         8          12"
      ]
     },
     "execution_count": 55,
     "metadata": {},
     "output_type": "execute_result"
    }
   ],
   "source": [
    "df = pd.DataFrame({\n",
    "    'list-one': [1, 2, 3, 4],\n",
    "    'list-two': [5, 6, 7, 8],\n",
    "    'list-three': [9, 10, 11, 12]\n",
    "})\n",
    "\n",
    "df"
   ]
  },
  {
   "cell_type": "markdown",
   "id": "5e4bea93-d5b5-4d2c-a3ae-3baf8fb57246",
   "metadata": {},
   "source": [
    "#### 2.1 Selecting a column"
   ]
  },
  {
   "cell_type": "code",
   "execution_count": 56,
   "id": "9642fb70-055d-42bd-8f2e-5077d3ce185a",
   "metadata": {},
   "outputs": [
    {
     "data": {
      "text/plain": [
       "0    1\n",
       "1    2\n",
       "2    3\n",
       "3    4\n",
       "Name: list-one, dtype: int64"
      ]
     },
     "execution_count": 56,
     "metadata": {},
     "output_type": "execute_result"
    }
   ],
   "source": [
    "df['list-one'] # Returns a Serie with the column label as name."
   ]
  },
  {
   "cell_type": "markdown",
   "id": "e045dfc1-cd1c-496a-ad7e-81812eeb967b",
   "metadata": {},
   "source": [
    "#### 2.2 Selecting a row"
   ]
  },
  {
   "cell_type": "markdown",
   "id": "54eab168-8072-4d62-8653-e883fcf1ba49",
   "metadata": {},
   "source": [
    "##### 2.2 Single row"
   ]
  },
  {
   "cell_type": "markdown",
   "id": "852ec145-e7e4-4e0f-88b2-b8f229392564",
   "metadata": {},
   "source": [
    "> Using loc and iloc:\n",
    "> - The value passed in `loc` is the row `label` whereas the value passed in `iloc` is the `numerical value` of the row.\n",
    "> - In both cases, a Series is returned."
   ]
  },
  {
   "cell_type": "code",
   "execution_count": 57,
   "id": "e3dd129a-0f58-4912-8b69-6cc9c0229ca1",
   "metadata": {},
   "outputs": [
    {
     "data": {
      "text/plain": [
       "list-one      1\n",
       "list-two      5\n",
       "list-three    9\n",
       "Name: 0, dtype: int64"
      ]
     },
     "execution_count": 57,
     "metadata": {},
     "output_type": "execute_result"
    }
   ],
   "source": [
    "df.loc[0] # Returns a Serie containing values of all columns in the row with label 0"
   ]
  },
  {
   "cell_type": "code",
   "execution_count": 58,
   "id": "93ef9188-497f-43ce-8563-cd96eabe3ebe",
   "metadata": {},
   "outputs": [
    {
     "data": {
      "text/plain": [
       "list-one      1\n",
       "list-two      5\n",
       "list-three    9\n",
       "Name: 0, dtype: int64"
      ]
     },
     "execution_count": 58,
     "metadata": {},
     "output_type": "execute_result"
    }
   ],
   "source": [
    "df.iloc[0]"
   ]
  },
  {
   "cell_type": "code",
   "execution_count": 59,
   "id": "3b72a7f8-a5ce-4755-9edb-ffd920663a2e",
   "metadata": {},
   "outputs": [
    {
     "data": {
      "text/html": [
       "<div>\n",
       "<style scoped>\n",
       "    .dataframe tbody tr th:only-of-type {\n",
       "        vertical-align: middle;\n",
       "    }\n",
       "\n",
       "    .dataframe tbody tr th {\n",
       "        vertical-align: top;\n",
       "    }\n",
       "\n",
       "    .dataframe thead th {\n",
       "        text-align: right;\n",
       "    }\n",
       "</style>\n",
       "<table border=\"1\" class=\"dataframe\">\n",
       "  <thead>\n",
       "    <tr style=\"text-align: right;\">\n",
       "      <th></th>\n",
       "      <th>0</th>\n",
       "      <th>1</th>\n",
       "      <th>2</th>\n",
       "      <th>3</th>\n",
       "      <th>4</th>\n",
       "    </tr>\n",
       "  </thead>\n",
       "  <tbody>\n",
       "    <tr>\n",
       "      <th>DATA-1</th>\n",
       "      <td>MATH</td>\n",
       "      <td>PHYSICS</td>\n",
       "      <td>COMPUTER SCIENCE</td>\n",
       "      <td>ENGINEERING</td>\n",
       "      <td>LITERATURE</td>\n",
       "    </tr>\n",
       "    <tr>\n",
       "      <th>DATA-2</th>\n",
       "      <td>75</td>\n",
       "      <td>80</td>\n",
       "      <td>85</td>\n",
       "      <td>90</td>\n",
       "      <td>95</td>\n",
       "    </tr>\n",
       "  </tbody>\n",
       "</table>\n",
       "</div>"
      ],
      "text/plain": [
       "           0        1                 2            3           4\n",
       "DATA-1  MATH  PHYSICS  COMPUTER SCIENCE  ENGINEERING  LITERATURE\n",
       "DATA-2    75       80                85           90          95"
      ]
     },
     "execution_count": 59,
     "metadata": {},
     "output_type": "execute_result"
    }
   ],
   "source": [
    "record = ('MATH', 'PHYSICS', 'COMPUTER SCIENCE', 'ENGINEERING', 'LITERATURE'), np.arange(75, 100, 5)\n",
    "dframe = pd.DataFrame(record, index=['DATA-1', 'DATA-2'])\n",
    "\n",
    "dframe"
   ]
  },
  {
   "cell_type": "code",
   "execution_count": 60,
   "id": "bb625f9f-7401-4d8c-b815-ab03dc556b3f",
   "metadata": {},
   "outputs": [
    {
     "data": {
      "text/plain": [
       "0    75\n",
       "1    80\n",
       "2    85\n",
       "3    90\n",
       "4    95\n",
       "Name: DATA-2, dtype: object"
      ]
     },
     "execution_count": 60,
     "metadata": {},
     "output_type": "execute_result"
    }
   ],
   "source": [
    "dframe.loc['DATA-2']"
   ]
  },
  {
   "cell_type": "code",
   "execution_count": 61,
   "id": "3cc7c4e5-1bb0-4a60-88d9-c0a5924b9e34",
   "metadata": {},
   "outputs": [
    {
     "data": {
      "text/plain": [
       "0    75\n",
       "1    80\n",
       "2    85\n",
       "3    90\n",
       "4    95\n",
       "Name: DATA-2, dtype: object"
      ]
     },
     "execution_count": 61,
     "metadata": {},
     "output_type": "execute_result"
    }
   ],
   "source": [
    "dframe.iloc[1]"
   ]
  },
  {
   "cell_type": "markdown",
   "id": "080f9774-a86c-4b05-bf8b-305d6c43a194",
   "metadata": {},
   "source": [
    "##### 2.2 Multiple rows"
   ]
  },
  {
   "cell_type": "markdown",
   "id": "a654b565-5333-4e06-b83a-216abb01072f",
   "metadata": {},
   "source": [
    "> Selecting multiple rows yields a DataFrame"
   ]
  },
  {
   "cell_type": "code",
   "execution_count": 62,
   "id": "7b1c559a-1928-46cc-9d6b-d24939d4ef66",
   "metadata": {},
   "outputs": [
    {
     "data": {
      "text/html": [
       "<div>\n",
       "<style scoped>\n",
       "    .dataframe tbody tr th:only-of-type {\n",
       "        vertical-align: middle;\n",
       "    }\n",
       "\n",
       "    .dataframe tbody tr th {\n",
       "        vertical-align: top;\n",
       "    }\n",
       "\n",
       "    .dataframe thead th {\n",
       "        text-align: right;\n",
       "    }\n",
       "</style>\n",
       "<table border=\"1\" class=\"dataframe\">\n",
       "  <thead>\n",
       "    <tr style=\"text-align: right;\">\n",
       "      <th></th>\n",
       "      <th>list-one</th>\n",
       "      <th>list-two</th>\n",
       "      <th>list-three</th>\n",
       "    </tr>\n",
       "  </thead>\n",
       "  <tbody>\n",
       "    <tr>\n",
       "      <th>0</th>\n",
       "      <td>1</td>\n",
       "      <td>5</td>\n",
       "      <td>9</td>\n",
       "    </tr>\n",
       "    <tr>\n",
       "      <th>1</th>\n",
       "      <td>2</td>\n",
       "      <td>6</td>\n",
       "      <td>10</td>\n",
       "    </tr>\n",
       "    <tr>\n",
       "      <th>2</th>\n",
       "      <td>3</td>\n",
       "      <td>7</td>\n",
       "      <td>11</td>\n",
       "    </tr>\n",
       "    <tr>\n",
       "      <th>3</th>\n",
       "      <td>4</td>\n",
       "      <td>8</td>\n",
       "      <td>12</td>\n",
       "    </tr>\n",
       "  </tbody>\n",
       "</table>\n",
       "</div>"
      ],
      "text/plain": [
       "   list-one  list-two  list-three\n",
       "0         1         5           9\n",
       "1         2         6          10\n",
       "2         3         7          11\n",
       "3         4         8          12"
      ]
     },
     "execution_count": 62,
     "metadata": {},
     "output_type": "execute_result"
    }
   ],
   "source": [
    "df = pd.DataFrame({\n",
    "    'list-one': [1, 2, 3, 4],\n",
    "    'list-two': [5, 6, 7, 8],\n",
    "    'list-three': [9, 10, 11, 12]\n",
    "})\n",
    "\n",
    "df"
   ]
  },
  {
   "cell_type": "code",
   "execution_count": 63,
   "id": "54bf7115-2676-47e0-a285-fa643a06055a",
   "metadata": {},
   "outputs": [
    {
     "data": {
      "text/html": [
       "<div>\n",
       "<style scoped>\n",
       "    .dataframe tbody tr th:only-of-type {\n",
       "        vertical-align: middle;\n",
       "    }\n",
       "\n",
       "    .dataframe tbody tr th {\n",
       "        vertical-align: top;\n",
       "    }\n",
       "\n",
       "    .dataframe thead th {\n",
       "        text-align: right;\n",
       "    }\n",
       "</style>\n",
       "<table border=\"1\" class=\"dataframe\">\n",
       "  <thead>\n",
       "    <tr style=\"text-align: right;\">\n",
       "      <th></th>\n",
       "      <th>list-one</th>\n",
       "      <th>list-two</th>\n",
       "      <th>list-three</th>\n",
       "    </tr>\n",
       "  </thead>\n",
       "  <tbody>\n",
       "    <tr>\n",
       "      <th>0</th>\n",
       "      <td>1</td>\n",
       "      <td>5</td>\n",
       "      <td>9</td>\n",
       "    </tr>\n",
       "    <tr>\n",
       "      <th>1</th>\n",
       "      <td>2</td>\n",
       "      <td>6</td>\n",
       "      <td>10</td>\n",
       "    </tr>\n",
       "    <tr>\n",
       "      <th>2</th>\n",
       "      <td>3</td>\n",
       "      <td>7</td>\n",
       "      <td>11</td>\n",
       "    </tr>\n",
       "    <tr>\n",
       "      <th>3</th>\n",
       "      <td>4</td>\n",
       "      <td>8</td>\n",
       "      <td>12</td>\n",
       "    </tr>\n",
       "  </tbody>\n",
       "</table>\n",
       "</div>"
      ],
      "text/plain": [
       "   list-one  list-two  list-three\n",
       "0         1         5           9\n",
       "1         2         6          10\n",
       "2         3         7          11\n",
       "3         4         8          12"
      ]
     },
     "execution_count": 63,
     "metadata": {},
     "output_type": "execute_result"
    }
   ],
   "source": [
    "# Select all rows\n",
    "df[:]"
   ]
  },
  {
   "cell_type": "code",
   "execution_count": 64,
   "id": "1342cfee-80f1-4cb1-9ac9-0e78233e07bf",
   "metadata": {},
   "outputs": [
    {
     "data": {
      "text/html": [
       "<div>\n",
       "<style scoped>\n",
       "    .dataframe tbody tr th:only-of-type {\n",
       "        vertical-align: middle;\n",
       "    }\n",
       "\n",
       "    .dataframe tbody tr th {\n",
       "        vertical-align: top;\n",
       "    }\n",
       "\n",
       "    .dataframe thead th {\n",
       "        text-align: right;\n",
       "    }\n",
       "</style>\n",
       "<table border=\"1\" class=\"dataframe\">\n",
       "  <thead>\n",
       "    <tr style=\"text-align: right;\">\n",
       "      <th></th>\n",
       "      <th>list-one</th>\n",
       "      <th>list-two</th>\n",
       "      <th>list-three</th>\n",
       "    </tr>\n",
       "  </thead>\n",
       "  <tbody>\n",
       "    <tr>\n",
       "      <th>3</th>\n",
       "      <td>4</td>\n",
       "      <td>8</td>\n",
       "      <td>12</td>\n",
       "    </tr>\n",
       "  </tbody>\n",
       "</table>\n",
       "</div>"
      ],
      "text/plain": [
       "   list-one  list-two  list-three\n",
       "3         4         8          12"
      ]
     },
     "execution_count": 64,
     "metadata": {},
     "output_type": "execute_result"
    }
   ],
   "source": [
    "# Select the last row\n",
    "df[-1:]"
   ]
  },
  {
   "cell_type": "code",
   "execution_count": 65,
   "id": "6b031a21-dae3-446d-99d6-eabf0efcf35e",
   "metadata": {},
   "outputs": [
    {
     "data": {
      "text/html": [
       "<div>\n",
       "<style scoped>\n",
       "    .dataframe tbody tr th:only-of-type {\n",
       "        vertical-align: middle;\n",
       "    }\n",
       "\n",
       "    .dataframe tbody tr th {\n",
       "        vertical-align: top;\n",
       "    }\n",
       "\n",
       "    .dataframe thead th {\n",
       "        text-align: right;\n",
       "    }\n",
       "</style>\n",
       "<table border=\"1\" class=\"dataframe\">\n",
       "  <thead>\n",
       "    <tr style=\"text-align: right;\">\n",
       "      <th></th>\n",
       "      <th>list-one</th>\n",
       "      <th>list-two</th>\n",
       "      <th>list-three</th>\n",
       "    </tr>\n",
       "  </thead>\n",
       "  <tbody>\n",
       "    <tr>\n",
       "      <th>1</th>\n",
       "      <td>2</td>\n",
       "      <td>6</td>\n",
       "      <td>10</td>\n",
       "    </tr>\n",
       "    <tr>\n",
       "      <th>2</th>\n",
       "      <td>3</td>\n",
       "      <td>7</td>\n",
       "      <td>11</td>\n",
       "    </tr>\n",
       "  </tbody>\n",
       "</table>\n",
       "</div>"
      ],
      "text/plain": [
       "   list-one  list-two  list-three\n",
       "1         2         6          10\n",
       "2         3         7          11"
      ]
     },
     "execution_count": 65,
     "metadata": {},
     "output_type": "execute_result"
    }
   ],
   "source": [
    "# Select rows 2 and 3\n",
    "df[1:3] # The row at index 3 is not included"
   ]
  },
  {
   "cell_type": "code",
   "execution_count": 66,
   "id": "1b01f8fb-a32d-4b29-9c9d-2f9cba0545cf",
   "metadata": {},
   "outputs": [
    {
     "data": {
      "text/html": [
       "<div>\n",
       "<style scoped>\n",
       "    .dataframe tbody tr th:only-of-type {\n",
       "        vertical-align: middle;\n",
       "    }\n",
       "\n",
       "    .dataframe tbody tr th {\n",
       "        vertical-align: top;\n",
       "    }\n",
       "\n",
       "    .dataframe thead th {\n",
       "        text-align: right;\n",
       "    }\n",
       "</style>\n",
       "<table border=\"1\" class=\"dataframe\">\n",
       "  <thead>\n",
       "    <tr style=\"text-align: right;\">\n",
       "      <th></th>\n",
       "      <th>0</th>\n",
       "      <th>1</th>\n",
       "      <th>2</th>\n",
       "      <th>3</th>\n",
       "    </tr>\n",
       "  </thead>\n",
       "  <tbody>\n",
       "    <tr>\n",
       "      <th>list-one</th>\n",
       "      <td>1</td>\n",
       "      <td>2</td>\n",
       "      <td>3</td>\n",
       "      <td>4</td>\n",
       "    </tr>\n",
       "    <tr>\n",
       "      <th>list-two</th>\n",
       "      <td>5</td>\n",
       "      <td>6</td>\n",
       "      <td>7</td>\n",
       "      <td>8</td>\n",
       "    </tr>\n",
       "    <tr>\n",
       "      <th>list-three</th>\n",
       "      <td>9</td>\n",
       "      <td>10</td>\n",
       "      <td>11</td>\n",
       "      <td>12</td>\n",
       "    </tr>\n",
       "  </tbody>\n",
       "</table>\n",
       "</div>"
      ],
      "text/plain": [
       "            0   1   2   3\n",
       "list-one    1   2   3   4\n",
       "list-two    5   6   7   8\n",
       "list-three  9  10  11  12"
      ]
     },
     "execution_count": 66,
     "metadata": {},
     "output_type": "execute_result"
    }
   ],
   "source": [
    "# Transpose the DataFrame\n",
    "df.transpose() # or df.T"
   ]
  },
  {
   "cell_type": "code",
   "execution_count": 67,
   "id": "ea600939-224f-43b1-9aed-fcbd3b9deaee",
   "metadata": {},
   "outputs": [
    {
     "data": {
      "text/html": [
       "<div>\n",
       "<style scoped>\n",
       "    .dataframe tbody tr th:only-of-type {\n",
       "        vertical-align: middle;\n",
       "    }\n",
       "\n",
       "    .dataframe tbody tr th {\n",
       "        vertical-align: top;\n",
       "    }\n",
       "\n",
       "    .dataframe thead th {\n",
       "        text-align: right;\n",
       "    }\n",
       "</style>\n",
       "<table border=\"1\" class=\"dataframe\">\n",
       "  <thead>\n",
       "    <tr style=\"text-align: right;\">\n",
       "      <th></th>\n",
       "      <th>0</th>\n",
       "      <th>1</th>\n",
       "      <th>2</th>\n",
       "      <th>3</th>\n",
       "    </tr>\n",
       "  </thead>\n",
       "  <tbody>\n",
       "    <tr>\n",
       "      <th>list-one</th>\n",
       "      <td>1</td>\n",
       "      <td>2</td>\n",
       "      <td>3</td>\n",
       "      <td>4</td>\n",
       "    </tr>\n",
       "    <tr>\n",
       "      <th>list-two</th>\n",
       "      <td>5</td>\n",
       "      <td>6</td>\n",
       "      <td>7</td>\n",
       "      <td>8</td>\n",
       "    </tr>\n",
       "    <tr>\n",
       "      <th>list-three</th>\n",
       "      <td>9</td>\n",
       "      <td>10</td>\n",
       "      <td>11</td>\n",
       "      <td>12</td>\n",
       "    </tr>\n",
       "  </tbody>\n",
       "</table>\n",
       "</div>"
      ],
      "text/plain": [
       "            0   1   2   3\n",
       "list-one    1   2   3   4\n",
       "list-two    5   6   7   8\n",
       "list-three  9  10  11  12"
      ]
     },
     "execution_count": 67,
     "metadata": {},
     "output_type": "execute_result"
    }
   ],
   "source": [
    "df.T"
   ]
  }
 ],
 "metadata": {
  "kernelspec": {
   "display_name": "base",
   "language": "python",
   "name": "python3"
  },
  "language_info": {
   "codemirror_mode": {
    "name": "ipython",
    "version": 3
   },
   "file_extension": ".py",
   "mimetype": "text/x-python",
   "name": "python",
   "nbconvert_exporter": "python",
   "pygments_lexer": "ipython3",
   "version": "3.12.5"
  },
  "widgets": {
   "application/vnd.jupyter.widget-state+json": {
    "state": {},
    "version_major": 2,
    "version_minor": 0
   }
  }
 },
 "nbformat": 4,
 "nbformat_minor": 5
}
