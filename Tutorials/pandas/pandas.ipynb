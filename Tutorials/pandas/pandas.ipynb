{
 "cells": [
  {
   "cell_type": "code",
   "execution_count": 1,
   "id": "1cdd537b-bcf0-4b60-a8ff-05f7fab5d21d",
   "metadata": {},
   "outputs": [],
   "source": [
    "import pandas as pd\n",
    "\n",
    "import numpy as np"
   ]
  },
  {
   "cell_type": "markdown",
   "id": "96008046-6a2b-4afd-af23-431c730cb14f",
   "metadata": {},
   "source": [
    "## Series"
   ]
  },
  {
   "cell_type": "markdown",
   "id": "e2855062-b406-4a87-80f7-0f619883db6a",
   "metadata": {},
   "source": [
    "Series: A fixed length one dimensional array with a labeled index. \n",
    "- The pandas array can hold data/values of different types.  "
   ]
  },
  {
   "attachments": {},
   "cell_type": "markdown",
   "id": "4c9d7de6-d6a0-41cf-95d5-0645730f962b",
   "metadata": {},
   "source": [
    "### Creating a pandas series\n",
    "\n",
    "Series can be created from;\n",
    "- an ndarray\n",
    "- a dictionary\n",
    "- a scalar value"
   ]
  },
  {
   "cell_type": "markdown",
   "id": "410130db-4d6c-4743-b78e-c53fa96fb8c5",
   "metadata": {},
   "source": [
    "#### Series from an ndarray"
   ]
  },
  {
   "cell_type": "code",
   "execution_count": 2,
   "id": "2f858a97-8277-4726-80ef-6ec2a5375c58",
   "metadata": {},
   "outputs": [
    {
     "data": {
      "text/plain": [
       "array([-1.03354597, -0.39545713, -1.18984346,  1.02266335,  0.87370677,\n",
       "        0.34736437, -0.43991983, -0.72961565, -0.71173673,  2.79089807])"
      ]
     },
     "execution_count": 2,
     "metadata": {},
     "output_type": "execute_result"
    }
   ],
   "source": [
    "random_data = np.random.randn(10)\n",
    "random_data"
   ]
  },
  {
   "cell_type": "markdown",
   "id": "1d4928a8-15b8-4366-87a9-1ff63071f05f",
   "metadata": {},
   "source": [
    "> Numerical zero based indices are provided as index labels by default if not specified"
   ]
  },
  {
   "cell_type": "code",
   "execution_count": 3,
   "id": "d1f242f5-d62e-466a-91ca-fc50a2c3a8b9",
   "metadata": {},
   "outputs": [
    {
     "data": {
      "text/plain": [
       "0   -1.033546\n",
       "1   -0.395457\n",
       "2   -1.189843\n",
       "3    1.022663\n",
       "4    0.873707\n",
       "5    0.347364\n",
       "6   -0.439920\n",
       "7   -0.729616\n",
       "8   -0.711737\n",
       "9    2.790898\n",
       "dtype: float64"
      ]
     },
     "execution_count": 3,
     "metadata": {},
     "output_type": "execute_result"
    }
   ],
   "source": [
    "pd.Series(random_data)"
   ]
  },
  {
   "cell_type": "code",
   "execution_count": 4,
   "id": "d6dac597-b88a-40af-a420-9cf84723d500",
   "metadata": {},
   "outputs": [
    {
     "data": {
      "text/plain": [
       "0     4\n",
       "1    10\n",
       "2    15\n",
       "3    23\n",
       "4    27\n",
       "5    30\n",
       "dtype: int64"
      ]
     },
     "execution_count": 4,
     "metadata": {},
     "output_type": "execute_result"
    }
   ],
   "source": [
    "ages = np.array([4,10,15,23,27,30])\n",
    "pd.Series(ages)"
   ]
  },
  {
   "cell_type": "markdown",
   "id": "e397a81b-554f-4df0-9a36-0f73e4cb27b3",
   "metadata": {},
   "source": [
    "> The specified index becomes the labels for each data/value in the series(pandas array)"
   ]
  },
  {
   "cell_type": "raw",
   "id": "beb9da12-6a67-4443-877f-2e55640e6a60",
   "metadata": {},
   "source": [
    "x = pd.Series(random_data, index=['a','b','c','d','e','f','g','h','i','j'])\n",
    "x"
   ]
  },
  {
   "cell_type": "markdown",
   "id": "ec200a88-a8f4-44fd-81d8-660dabd62747",
   "metadata": {},
   "source": [
    "> Note: When creating a pandas series from an ndarray, the index if specified should have a list with labels of the same length as the ndarray."
   ]
  },
  {
   "cell_type": "code",
   "execution_count": 5,
   "id": "fda0282f-8003-4f45-a168-0601573fd7f1",
   "metadata": {},
   "outputs": [
    {
     "data": {
      "text/plain": [
       "1    -1.033546\n",
       "2    -0.395457\n",
       "3    -1.189843\n",
       "4     1.022663\n",
       "5     0.873707\n",
       "6     0.347364\n",
       "7    -0.439920\n",
       "8    -0.729616\n",
       "9    -0.711737\n",
       "10    2.790898\n",
       "dtype: float64"
      ]
     },
     "execution_count": 5,
     "metadata": {},
     "output_type": "execute_result"
    }
   ],
   "source": [
    "y = pd.Series(random_data, index=[1,2,3,4,5,6,7,8,9,10])\n",
    "y"
   ]
  },
  {
   "cell_type": "markdown",
   "id": "6dce8e83-42d4-4f44-a13a-833236e00579",
   "metadata": {},
   "source": [
    "#### Series from a dictionary"
   ]
  },
  {
   "cell_type": "markdown",
   "id": "d585cab7-e370-4bdc-bf39-774b1ba026c5",
   "metadata": {},
   "source": [
    "> When a dictionary is used, the keys become the index labels and the values are the series values"
   ]
  },
  {
   "cell_type": "code",
   "execution_count": 6,
   "id": "8e3ea465-ae56-45d5-be2c-3324a6a11fe6",
   "metadata": {},
   "outputs": [
    {
     "data": {
      "text/plain": [
       "math              67\n",
       "science           75\n",
       "english           80\n",
       "social studies    59\n",
       "dtype: int64"
      ]
     },
     "execution_count": 6,
     "metadata": {},
     "output_type": "execute_result"
    }
   ],
   "source": [
    "scores = {'math':67, 'science':75, 'english':80, 'social studies':59} # dtype is int because the values are integers\n",
    "pd.Series(scores)"
   ]
  },
  {
   "cell_type": "code",
   "execution_count": 7,
   "id": "f554ea0e-dba7-4b94-afa5-8e6680d5af9b",
   "metadata": {},
   "outputs": [
    {
     "data": {
      "text/plain": [
       "usa          100\n",
       "china        250\n",
       "india       3200\n",
       "korea        NaN\n",
       "malawi    234.56\n",
       "dtype: object"
      ]
     },
     "execution_count": 7,
     "metadata": {},
     "output_type": "execute_result"
    }
   ],
   "source": [
    "# If the value types are mixed, the series dtype defaults to object\n",
    "unsorted = {'usa':'100', 'china':250, 'india':'3200', 'korea':np.nan, 'malawi':234.56}\n",
    "pd.Series(unsorted)"
   ]
  },
  {
   "cell_type": "markdown",
   "id": "db56a75b-c3e6-4c5e-94d3-8c1da17bea16",
   "metadata": {},
   "source": [
    "#### Series from a scalar "
   ]
  },
  {
   "cell_type": "code",
   "execution_count": 8,
   "id": "ada41378-9967-4f35-934a-407eb94f9fa1",
   "metadata": {},
   "outputs": [
    {
     "data": {
      "text/plain": [
       "0    3.141593\n",
       "dtype: float64"
      ]
     },
     "execution_count": 8,
     "metadata": {},
     "output_type": "execute_result"
    }
   ],
   "source": [
    "pi = np.pi\n",
    "pd.Series(pi)"
   ]
  },
  {
   "cell_type": "code",
   "execution_count": 9,
   "id": "6545fd5f-9222-42dc-92c7-05cde1ad66b0",
   "metadata": {},
   "outputs": [
    {
     "data": {
      "text/plain": [
       "0    person\n",
       "dtype: object"
      ]
     },
     "execution_count": 9,
     "metadata": {},
     "output_type": "execute_result"
    }
   ],
   "source": [
    "pd.Series('person')"
   ]
  },
  {
   "cell_type": "code",
   "execution_count": 10,
   "id": "28c54341-2382-42a3-b76d-5429409e3889",
   "metadata": {},
   "outputs": [
    {
     "data": {
      "text/plain": [
       "0   2025-05-13 13:12:27.938889\n",
       "dtype: datetime64[ns]"
      ]
     },
     "execution_count": 10,
     "metadata": {},
     "output_type": "execute_result"
    }
   ],
   "source": [
    "import datetime\n",
    "pd.Series((datetime.datetime.now()))"
   ]
  },
  {
   "cell_type": "markdown",
   "id": "fe8d8407-d9b5-4493-8f65-7bad8459ad6e",
   "metadata": {},
   "source": [
    "> Inorder to distinguish between series, each can be named differently using the `name` method."
   ]
  },
  {
   "cell_type": "code",
   "execution_count": 11,
   "id": "d7382a8a-9694-46c0-808b-6566cc28551b",
   "metadata": {},
   "outputs": [
    {
     "data": {
      "text/plain": [
       "0    1.161787\n",
       "1   -0.627834\n",
       "2   -1.920944\n",
       "3    0.991237\n",
       "4    0.417177\n",
       "5    0.258782\n",
       "6   -0.118874\n",
       "7   -0.337516\n",
       "Name: floats, dtype: float64"
      ]
     },
     "execution_count": 11,
     "metadata": {},
     "output_type": "execute_result"
    }
   ],
   "source": [
    "z = np.random.randn(8)\n",
    "pd.Series(z, name='floats')"
   ]
  },
  {
   "cell_type": "code",
   "execution_count": 12,
   "id": "f15fb627-66c3-4225-9133-c351eb2b26c0",
   "metadata": {},
   "outputs": [
    {
     "data": {
      "text/plain": [
       "0    1.161787\n",
       "1   -0.627834\n",
       "2   -1.920944\n",
       "Name: sample data, dtype: float64"
      ]
     },
     "execution_count": 12,
     "metadata": {},
     "output_type": "execute_result"
    }
   ],
   "source": [
    "t = z[:3]\n",
    "pd.Series(t, name='sample data')"
   ]
  },
  {
   "cell_type": "code",
   "execution_count": 13,
   "id": "a1d5166a-aa03-4974-9e48-979a0a1103b4",
   "metadata": {},
   "outputs": [
    {
     "data": {
      "text/plain": [
       "0    1.161787\n",
       "1   -0.627834\n",
       "2   -1.920944\n",
       "Name: selected data, dtype: float64"
      ]
     },
     "execution_count": 13,
     "metadata": {},
     "output_type": "execute_result"
    }
   ],
   "source": [
    "# Sample data renamed, this will create two different series\n",
    "b = pd.Series(t, name='sample data')\n",
    "b.rename('selected data')"
   ]
  },
  {
   "cell_type": "code",
   "execution_count": 14,
   "id": "bbe71ffc-e00a-4be8-b300-2a89aad1c2cb",
   "metadata": {},
   "outputs": [
    {
     "data": {
      "text/plain": [
       "False"
      ]
     },
     "execution_count": 14,
     "metadata": {},
     "output_type": "execute_result"
    }
   ],
   "source": [
    "# b and t are now different objects\n",
    "b is t"
   ]
  },
  {
   "cell_type": "code",
   "execution_count": 15,
   "id": "4713e844-5cde-4267-b4df-a5c2b028554b",
   "metadata": {},
   "outputs": [
    {
     "data": {
      "text/plain": [
       "0    True\n",
       "1    True\n",
       "2    True\n",
       "Name: sample data, dtype: bool"
      ]
     },
     "execution_count": 15,
     "metadata": {},
     "output_type": "execute_result"
    }
   ],
   "source": [
    "# but the data in them is the same and reference is made to the original object\n",
    "b == t"
   ]
  },
  {
   "cell_type": "code",
   "execution_count": 16,
   "id": "f496d552-c44d-416c-91e9-0c538631ff92",
   "metadata": {},
   "outputs": [
    {
     "data": {
      "text/plain": [
       "0    True\n",
       "1    True\n",
       "2    True\n",
       "Name: sample data, dtype: bool"
      ]
     },
     "execution_count": 16,
     "metadata": {},
     "output_type": "execute_result"
    }
   ],
   "source": [
    "# but the data in them is the same and reference is made to the original object\n",
    "t == b"
   ]
  },
  {
   "cell_type": "markdown",
   "id": "fc4c3022-f7ef-4f69-832e-a2a1e2f565c6",
   "metadata": {},
   "source": [
    "### Slicing"
   ]
  },
  {
   "cell_type": "markdown",
   "id": "4a8b20f4-6429-4e35-b433-a534926d1325",
   "metadata": {},
   "source": [
    "> Slicing a pandas series works in a similar way as slicing a list, string, etc with an exception that it also slices the index and includes it in the output."
   ]
  },
  {
   "cell_type": "code",
   "execution_count": 17,
   "id": "141de39b-172f-49d2-8082-b3ad003847a3",
   "metadata": {},
   "outputs": [],
   "source": [
    "x = pd.Series(random_data, index=['a','b','c','d','e','f','g','h','i','j'])\n",
    "y = pd.Series(random_data, index=[1,2,3,4,5,6,7,8,9,10])"
   ]
  },
  {
   "cell_type": "markdown",
   "id": "4ec7ccab-2850-4770-a01b-645206e39541",
   "metadata": {},
   "source": [
    "#### Accessing a subset of the series"
   ]
  },
  {
   "cell_type": "code",
   "execution_count": 18,
   "id": "5e590cd3-5928-4fe8-a885-f0f9b0cc1623",
   "metadata": {},
   "outputs": [
    {
     "data": {
      "text/plain": [
       "a   -1.033546\n",
       "b   -0.395457\n",
       "dtype: float64"
      ]
     },
     "execution_count": 18,
     "metadata": {},
     "output_type": "execute_result"
    }
   ],
   "source": [
    "x[:2]"
   ]
  },
  {
   "cell_type": "code",
   "execution_count": 19,
   "id": "18c22053-3acd-4b19-85d1-8a5744b0988a",
   "metadata": {},
   "outputs": [
    {
     "data": {
      "text/plain": [
       "f    0.347364\n",
       "g   -0.439920\n",
       "h   -0.729616\n",
       "i   -0.711737\n",
       "j    2.790898\n",
       "dtype: float64"
      ]
     },
     "execution_count": 19,
     "metadata": {},
     "output_type": "execute_result"
    }
   ],
   "source": [
    "x[5:]"
   ]
  },
  {
   "cell_type": "code",
   "execution_count": 20,
   "id": "b44a1d2a-3552-40a7-86a9-e17d1f798032",
   "metadata": {},
   "outputs": [
    {
     "data": {
      "text/plain": [
       "3   -1.189843\n",
       "4    1.022663\n",
       "5    0.873707\n",
       "dtype: float64"
      ]
     },
     "execution_count": 20,
     "metadata": {},
     "output_type": "execute_result"
    }
   ],
   "source": [
    "y[2:5]"
   ]
  },
  {
   "cell_type": "markdown",
   "id": "f2324bac-3d3e-43e1-b4d7-bd636d7c85e9",
   "metadata": {},
   "source": [
    "#### Accessing individual values using index labels"
   ]
  },
  {
   "cell_type": "code",
   "execution_count": 21,
   "id": "9beb7555-a167-4a20-9cfb-ae3ad40f4d65",
   "metadata": {},
   "outputs": [
    {
     "data": {
      "text/plain": [
       "np.float64(-1.1898434587373645)"
      ]
     },
     "execution_count": 21,
     "metadata": {},
     "output_type": "execute_result"
    }
   ],
   "source": [
    "x['c']"
   ]
  },
  {
   "cell_type": "code",
   "execution_count": 22,
   "id": "18edbf0f-f89b-4382-bbd5-994842996fed",
   "metadata": {},
   "outputs": [
    {
     "data": {
      "text/plain": [
       "np.float64(1.0226633457447198)"
      ]
     },
     "execution_count": 22,
     "metadata": {},
     "output_type": "execute_result"
    }
   ],
   "source": [
    "y[4]"
   ]
  },
  {
   "cell_type": "markdown",
   "id": "06f2091f-2eb1-4af9-97bf-fe12273748e8",
   "metadata": {},
   "source": [
    "### Converting a series into an array"
   ]
  },
  {
   "cell_type": "markdown",
   "id": "18081b39-4307-43dc-9917-bacb8c2c06f3",
   "metadata": {},
   "source": [
    "> Converting a series to an array yields an ndarray"
   ]
  },
  {
   "cell_type": "code",
   "execution_count": 23,
   "id": "7bd07e78-9eb3-43eb-afec-b2b2977ae5b4",
   "metadata": {},
   "outputs": [
    {
     "data": {
      "text/plain": [
       "<NumpyExtensionArray>\n",
       "[ np.float64(-1.0335459699654528),  np.float64(-0.3954571347216033),\n",
       "  np.float64(-1.1898434587373645),   np.float64(1.0226633457447198),\n",
       "   np.float64(0.8737067652382086),  np.float64(0.34736436696416134),\n",
       " np.float64(-0.43991982594699086),  np.float64(-0.7296156457927127),\n",
       "  np.float64(-0.7117367278044872),   np.float64(2.7908980680184894)]\n",
       "Length: 10, dtype: float64"
      ]
     },
     "execution_count": 23,
     "metadata": {},
     "output_type": "execute_result"
    }
   ],
   "source": [
    "# Using the array method from pandas\n",
    "pd.array(x)"
   ]
  },
  {
   "cell_type": "code",
   "execution_count": 24,
   "id": "5dbaa4a6-43dd-4cf6-b44d-02765470b539",
   "metadata": {},
   "outputs": [
    {
     "data": {
      "text/plain": [
       "array([-1.03354597, -0.39545713, -1.18984346,  1.02266335,  0.87370677,\n",
       "        0.34736437, -0.43991983, -0.72961565, -0.71173673,  2.79089807])"
      ]
     },
     "execution_count": 24,
     "metadata": {},
     "output_type": "execute_result"
    }
   ],
   "source": [
    "# Using the to_numpy method from pandas\n",
    "# First convert the data to a pandas series, then convert to a numpy array\n",
    "pd.Series(y).to_numpy()"
   ]
  },
  {
   "cell_type": "markdown",
   "id": "2acfdac0-f226-4e99-abe5-75a9d9cd9021",
   "metadata": {},
   "source": [
    "> Note: If you would like to perform some calculations/any other numerical computations, converting a pandas series to a numpy array is recommended."
   ]
  },
  {
   "cell_type": "markdown",
   "id": "83dca8b4-a3eb-4424-a366-3ddde093c47c",
   "metadata": {},
   "source": [
    "### Vectorization and data alignment"
   ]
  },
  {
   "cell_type": "markdown",
   "id": "c1e4e9d4-acad-4730-800f-81cc457e0442",
   "metadata": {},
   "source": [
    "> Pandas series support element wise operations just like numpy arrays, therefore does not require looping through the series to perform operations.  \n",
    "- Unsupported operations between different values default to `NaN`\n",
    "- The element wise operations support also allow for proper data alignment using the index of each value.\n",
    "  - if an index is missing, the value is replaced by `Nan`\n",
    "  - if the indicies from either serie don't match, a **union** of the values is obtained with the union value as `NaN`"
   ]
  },
  {
   "cell_type": "code",
   "execution_count": 25,
   "id": "a289ab2a-71fd-42e3-8cef-d3105d2a939d",
   "metadata": {},
   "outputs": [],
   "source": [
    "x = pd.Series(random_data, index=['a','b','c','d','e','f','g','h','i','j'])\n",
    "y = pd.Series(random_data, index=[1,2,3,4,5,6,7,8,9,10])"
   ]
  },
  {
   "cell_type": "markdown",
   "id": "b38bedff-3cb3-43b0-a65d-b6bacd878a7e",
   "metadata": {},
   "source": [
    "#### Numerical calculations"
   ]
  },
  {
   "cell_type": "code",
   "execution_count": 26,
   "id": "67362c58-4e8f-49b0-9bc4-3ce0acf96fee",
   "metadata": {},
   "outputs": [
    {
     "data": {
      "text/plain": [
       "(a   -1.033546\n",
       " b   -0.395457\n",
       " c   -1.189843\n",
       " d    1.022663\n",
       " e    0.873707\n",
       " f    0.347364\n",
       " g   -0.439920\n",
       " h   -0.729616\n",
       " i   -0.711737\n",
       " j    2.790898\n",
       " dtype: float64,\n",
       " a   -0.859119\n",
       " b   -0.385230\n",
       " c   -0.928311\n",
       " d    0.853499\n",
       " e    0.766714\n",
       " f    0.340421\n",
       " g   -0.425867\n",
       " h   -0.666583\n",
       " i   -0.653150\n",
       " j    0.343550\n",
       " dtype: float64)"
      ]
     },
     "execution_count": 26,
     "metadata": {},
     "output_type": "execute_result"
    }
   ],
   "source": [
    "x, np.sin(x)"
   ]
  },
  {
   "cell_type": "code",
   "execution_count": 27,
   "id": "92b2f2a2-7ef6-4b29-a04f-79a2d73aa1b4",
   "metadata": {},
   "outputs": [
    {
     "data": {
      "text/plain": [
       "(a   -1.033546\n",
       " b   -0.395457\n",
       " c   -1.189843\n",
       " d    1.022663\n",
       " e    0.873707\n",
       " f    0.347364\n",
       " g   -0.439920\n",
       " h   -0.729616\n",
       " i   -0.711737\n",
       " j    2.790898\n",
       " dtype: float64,\n",
       " a    3.966454\n",
       " b    4.604543\n",
       " c    3.810157\n",
       " d    6.022663\n",
       " e    5.873707\n",
       " f    5.347364\n",
       " g    4.560080\n",
       " h    4.270384\n",
       " i    4.288263\n",
       " j    7.790898\n",
       " dtype: float64)"
      ]
     },
     "execution_count": 27,
     "metadata": {},
     "output_type": "execute_result"
    }
   ],
   "source": [
    "x, x + 5"
   ]
  },
  {
   "cell_type": "code",
   "execution_count": 28,
   "id": "64a7ebcf-8798-4d75-aaa1-d43ac1c51ef6",
   "metadata": {},
   "outputs": [
    {
     "data": {
      "text/plain": [
       "(a   -1.033546\n",
       " b   -0.395457\n",
       " c   -1.189843\n",
       " d    1.022663\n",
       " e    0.873707\n",
       " f    0.347364\n",
       " g   -0.439920\n",
       " h   -0.729616\n",
       " i   -0.711737\n",
       " j    2.790898\n",
       " dtype: float64,\n",
       " a     0.355743\n",
       " b     0.673372\n",
       " c     0.304269\n",
       " d     2.780591\n",
       " e     2.395775\n",
       " f     1.415332\n",
       " g     0.644088\n",
       " h     0.482094\n",
       " i     0.490791\n",
       " j    16.295648\n",
       " dtype: float64)"
      ]
     },
     "execution_count": 28,
     "metadata": {},
     "output_type": "execute_result"
    }
   ],
   "source": [
    "x, np.exp(x)"
   ]
  },
  {
   "cell_type": "code",
   "execution_count": 29,
   "id": "4d809c78-c291-41fd-b9d1-e539972c78e8",
   "metadata": {},
   "outputs": [
    {
     "data": {
      "text/plain": [
       "(a   -1.033546\n",
       " b   -0.395457\n",
       " c   -1.189843\n",
       " d    1.022663\n",
       " e    0.873707\n",
       " f    0.347364\n",
       " g   -0.439920\n",
       " h   -0.729616\n",
       " i   -0.711737\n",
       " j    2.790898\n",
       " dtype: float64,\n",
       " a   -10.335460\n",
       " b    -3.954571\n",
       " c   -11.898435\n",
       " d    10.226633\n",
       " e     8.737068\n",
       " f     3.473644\n",
       " g    -4.399198\n",
       " h    -7.296156\n",
       " i    -7.117367\n",
       " j    27.908981\n",
       " dtype: float64)"
      ]
     },
     "execution_count": 29,
     "metadata": {},
     "output_type": "execute_result"
    }
   ],
   "source": [
    "x, x * 10"
   ]
  },
  {
   "cell_type": "code",
   "execution_count": 30,
   "id": "27c8c929-e1e6-416e-a435-35267f7db2f9",
   "metadata": {},
   "outputs": [
    {
     "data": {
      "text/plain": [
       "(a   -1.033546\n",
       " b   -0.395457\n",
       " c   -1.189843\n",
       " d    1.022663\n",
       " e    0.873707\n",
       " f    0.347364\n",
       " g   -0.439920\n",
       " h   -0.729616\n",
       " i   -0.711737\n",
       " j    2.790898\n",
       " dtype: float64,\n",
       " a    False\n",
       " b    False\n",
       " c    False\n",
       " d     True\n",
       " e     True\n",
       " f    False\n",
       " g    False\n",
       " h    False\n",
       " i    False\n",
       " j     True\n",
       " dtype: bool)"
      ]
     },
     "execution_count": 30,
     "metadata": {},
     "output_type": "execute_result"
    }
   ],
   "source": [
    "x, x > 0.5"
   ]
  },
  {
   "cell_type": "markdown",
   "id": "f33810e7-bdb3-4db5-8596-36abaa8193b3",
   "metadata": {},
   "source": [
    "#### Data Alignment"
   ]
  },
  {
   "cell_type": "markdown",
   "id": "ffaa7f9d-b6bf-4302-9ebf-89c62c671a44",
   "metadata": {},
   "source": [
    "> If the indices in each serie is the same and the operation between the elements is supported, the computation is successful, otherwise the value is replaced with `NaN`"
   ]
  },
  {
   "cell_type": "code",
   "execution_count": 31,
   "id": "2a6d5b21-a3f9-45a1-af50-9e23061a92de",
   "metadata": {},
   "outputs": [
    {
     "data": {
      "text/plain": [
       "a   -2.067092\n",
       "b   -0.790914\n",
       "c   -2.379687\n",
       "d    2.045327\n",
       "e    1.747414\n",
       "f    0.694729\n",
       "g   -0.879840\n",
       "h   -1.459231\n",
       "i   -1.423473\n",
       "j    5.581796\n",
       "dtype: float64"
      ]
     },
     "execution_count": 31,
     "metadata": {},
     "output_type": "execute_result"
    }
   ],
   "source": [
    "# Both x and x have the same indicies and the values support the addition operation\n",
    "x + x"
   ]
  },
  {
   "cell_type": "code",
   "execution_count": 32,
   "id": "da314e2a-0deb-43d9-ab00-d59dc7c9f904",
   "metadata": {},
   "outputs": [
    {
     "data": {
      "text/plain": [
       "a   -2.067092\n",
       "b   -0.790914\n",
       "c   -2.379687\n",
       "d    2.045327\n",
       "e         NaN\n",
       "f         NaN\n",
       "g         NaN\n",
       "h         NaN\n",
       "i         NaN\n",
       "j         NaN\n",
       "dtype: float64"
      ]
     },
     "execution_count": 32,
     "metadata": {},
     "output_type": "execute_result"
    }
   ],
   "source": [
    "# Only the first four elements will be successful because the indicies match and the elements present support addition\n",
    "union = x + x[:4]\n",
    "union"
   ]
  },
  {
   "cell_type": "code",
   "execution_count": 33,
   "id": "1e60b25e-a4a9-4ca6-b19f-707401f47582",
   "metadata": {},
   "outputs": [
    {
     "data": {
      "text/plain": [
       "f   NaN\n",
       "g   NaN\n",
       "h   NaN\n",
       "i   NaN\n",
       "j   NaN\n",
       "dtype: float64"
      ]
     },
     "execution_count": 33,
     "metadata": {},
     "output_type": "execute_result"
    }
   ],
   "source": [
    "# The rest of the values in the union formed i.e from index 5 to the end are replaced with NaN\n",
    "union[5:]"
   ]
  },
  {
   "cell_type": "code",
   "execution_count": 34,
   "id": "5c272c88-9647-41be-aa78-f675c9a7452c",
   "metadata": {},
   "outputs": [
    {
     "data": {
      "text/plain": [
       "a   -2.067092\n",
       "b   -0.790914\n",
       "c   -2.379687\n",
       "d    2.045327\n",
       "dtype: float64"
      ]
     },
     "execution_count": 34,
     "metadata": {},
     "output_type": "execute_result"
    }
   ],
   "source": [
    "# The NaN values can be dropped using pd.Series(some_data).dropna\n",
    "pd.Series(union).dropna()"
   ]
  },
  {
   "cell_type": "code",
   "execution_count": 35,
   "id": "a24e47a1-f63f-489b-bb39-5f4e7f399bd7",
   "metadata": {},
   "outputs": [
    {
     "data": {
      "text/plain": [
       "np.float64(nan)"
      ]
     },
     "execution_count": 35,
     "metadata": {},
     "output_type": "execute_result"
    }
   ],
   "source": [
    "# Each Nan value is of np.dtype(nan)\n",
    "union['j']"
   ]
  },
  {
   "cell_type": "code",
   "execution_count": 36,
   "id": "7649a8ab-ec64-46cb-833b-e98d9024e581",
   "metadata": {},
   "outputs": [
    {
     "data": {
      "text/plain": [
       "a    NaN\n",
       "b    NaN\n",
       "c    NaN\n",
       "d    NaN\n",
       "e    NaN\n",
       "f    NaN\n",
       "g    NaN\n",
       "h    NaN\n",
       "i    NaN\n",
       "j    NaN\n",
       "1    NaN\n",
       "2    NaN\n",
       "3    NaN\n",
       "4    NaN\n",
       "5    NaN\n",
       "6    NaN\n",
       "7    NaN\n",
       "8    NaN\n",
       "9    NaN\n",
       "10   NaN\n",
       "dtype: float64"
      ]
     },
     "execution_count": 36,
     "metadata": {},
     "output_type": "execute_result"
    }
   ],
   "source": [
    "# All the indicies don't match so a union of both series is obtained with their values replaced with NaN\n",
    "c = x + y\n",
    "c"
   ]
  },
  {
   "cell_type": "code",
   "execution_count": 37,
   "id": "4552f051-337e-4969-802d-37f01f9ea46c",
   "metadata": {},
   "outputs": [
    {
     "data": {
      "text/plain": [
       "(np.float64(nan), np.float64(nan))"
      ]
     },
     "execution_count": 37,
     "metadata": {},
     "output_type": "execute_result"
    }
   ],
   "source": [
    "c['a'], c[4]"
   ]
  },
  {
   "cell_type": "code",
   "execution_count": 38,
   "id": "eab060f4-903b-4931-aefb-f8e6c05198bd",
   "metadata": {},
   "outputs": [],
   "source": [
    "z = pd.Series([1,2,3,4,5,6,7], index=['a','b','c','d',5,6,7])"
   ]
  },
  {
   "cell_type": "code",
   "execution_count": 39,
   "id": "b250317e-db09-4601-bdbf-4a2633781010",
   "metadata": {},
   "outputs": [
    {
     "data": {
      "text/plain": [
       "5         NaN\n",
       "6         NaN\n",
       "7         NaN\n",
       "a   -0.033546\n",
       "b    1.604543\n",
       "c    1.810157\n",
       "d    5.022663\n",
       "e         NaN\n",
       "f         NaN\n",
       "g         NaN\n",
       "h         NaN\n",
       "i         NaN\n",
       "j         NaN\n",
       "dtype: float64"
      ]
     },
     "execution_count": 39,
     "metadata": {},
     "output_type": "execute_result"
    }
   ],
   "source": [
    "x + z"
   ]
  },
  {
   "cell_type": "code",
   "execution_count": 40,
   "id": "9d3aad2a-b7c9-421d-91f1-5ff923f1bd2b",
   "metadata": {},
   "outputs": [
    {
     "data": {
      "text/plain": [
       "1          NaN\n",
       "2          NaN\n",
       "3          NaN\n",
       "4          NaN\n",
       "5     5.873707\n",
       "6     6.347364\n",
       "7     6.560080\n",
       "8          NaN\n",
       "9          NaN\n",
       "10         NaN\n",
       "a          NaN\n",
       "b          NaN\n",
       "c          NaN\n",
       "d          NaN\n",
       "dtype: float64"
      ]
     },
     "execution_count": 40,
     "metadata": {},
     "output_type": "execute_result"
    }
   ],
   "source": [
    "y + z"
   ]
  },
  {
   "cell_type": "markdown",
   "id": "fca05b71-2b01-4b2a-bb40-cb2be5311051",
   "metadata": {},
   "source": [
    "## DataFrame"
   ]
  },
  {
   "cell_type": "code",
   "execution_count": null,
   "id": "024c4ec1-3731-4a88-ae7b-7b5c32aed48f",
   "metadata": {},
   "outputs": [],
   "source": []
  }
 ],
 "metadata": {
  "kernelspec": {
   "display_name": "base",
   "language": "python",
   "name": "python3"
  },
  "language_info": {
   "codemirror_mode": {
    "name": "ipython",
    "version": 3
   },
   "file_extension": ".py",
   "mimetype": "text/x-python",
   "name": "python",
   "nbconvert_exporter": "python",
   "pygments_lexer": "ipython3",
   "version": "3.12.5"
  },
  "widgets": {
   "application/vnd.jupyter.widget-state+json": {
    "state": {},
    "version_major": 2,
    "version_minor": 0
   }
  }
 },
 "nbformat": 4,
 "nbformat_minor": 5
}
